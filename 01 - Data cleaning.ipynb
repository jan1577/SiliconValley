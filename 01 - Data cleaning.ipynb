{
 "cells": [
  {
   "cell_type": "markdown",
   "metadata": {},
   "source": [
    "# Task 1: Data Collection and Preparation"
   ]
  },
  {
   "cell_type": "markdown",
   "metadata": {},
   "source": [
    "### Imports:"
   ]
  },
  {
   "cell_type": "code",
   "execution_count": 1,
   "metadata": {},
   "outputs": [],
   "source": [
    "import pandas as pd\n",
    "import numpy as np\n",
    "import re\n",
    "import datetime as dt\n",
    "import matplotlib as mpl\n",
    "import matplotlib.pyplot as plt\n",
    "import seaborn as sns"
   ]
  },
  {
   "cell_type": "markdown",
   "metadata": {},
   "source": [
    "### Read in the dataset"
   ]
  },
  {
   "cell_type": "code",
   "execution_count": 3,
   "metadata": {},
   "outputs": [],
   "source": [
    "# get data from la 2019\n",
    "la_set = pd.read_csv(\"la_2019.csv\", low_memory = False)"
   ]
  },
  {
   "cell_type": "markdown",
   "metadata": {},
   "source": [
    "## Data Cleaning and Preprocessing\n",
    "As the dataset contains around 300.000 trips, we decided to remove erroneous data."
   ]
  },
  {
   "cell_type": "markdown",
   "metadata": {},
   "source": [
    "Converting start time and end time into timestamps."
   ]
  },
  {
   "cell_type": "code",
   "execution_count": 4,
   "metadata": {},
   "outputs": [],
   "source": [
    "la_set['start_time'] = pd.DatetimeIndex(la_set['start_time'])\n",
    "la_set['end_time'] = pd.DatetimeIndex(la_set['end_time'])"
   ]
  },
  {
   "cell_type": "markdown",
   "metadata": {},
   "source": [
    "Adding the exact duration for every trip as an attribute, which is used later on to remove some erroneous trips."
   ]
  },
  {
   "cell_type": "code",
   "execution_count": 21,
   "metadata": {},
   "outputs": [
    {
     "data": {
      "text/html": [
       "<div>\n",
       "<style scoped>\n",
       "    .dataframe tbody tr th:only-of-type {\n",
       "        vertical-align: middle;\n",
       "    }\n",
       "\n",
       "    .dataframe tbody tr th {\n",
       "        vertical-align: top;\n",
       "    }\n",
       "\n",
       "    .dataframe thead th {\n",
       "        text-align: right;\n",
       "    }\n",
       "</style>\n",
       "<table border=\"1\" class=\"dataframe\">\n",
       "  <thead>\n",
       "    <tr style=\"text-align: right;\">\n",
       "      <th></th>\n",
       "      <th>start_time</th>\n",
       "      <th>end_time</th>\n",
       "      <th>start_station_id</th>\n",
       "      <th>end_station_id</th>\n",
       "      <th>bike_id</th>\n",
       "      <th>user_type</th>\n",
       "      <th>start_station_name</th>\n",
       "      <th>end_station_name</th>\n",
       "      <th>exact_duration</th>\n",
       "    </tr>\n",
       "  </thead>\n",
       "  <tbody>\n",
       "    <tr>\n",
       "      <th>0</th>\n",
       "      <td>2019-01-01 00:07:00</td>\n",
       "      <td>2019-01-01 00:14:00</td>\n",
       "      <td>3046</td>\n",
       "      <td>3051</td>\n",
       "      <td>6468</td>\n",
       "      <td>Walk-up</td>\n",
       "      <td>2nd &amp; Hill</td>\n",
       "      <td>7th &amp; Broadway</td>\n",
       "      <td>0 days 00:07:00</td>\n",
       "    </tr>\n",
       "    <tr>\n",
       "      <th>1</th>\n",
       "      <td>2019-01-01 00:08:00</td>\n",
       "      <td>2019-01-01 00:14:00</td>\n",
       "      <td>3046</td>\n",
       "      <td>3051</td>\n",
       "      <td>12311</td>\n",
       "      <td>Walk-up</td>\n",
       "      <td>2nd &amp; Hill</td>\n",
       "      <td>7th &amp; Broadway</td>\n",
       "      <td>0 days 00:06:00</td>\n",
       "    </tr>\n",
       "    <tr>\n",
       "      <th>2</th>\n",
       "      <td>2019-01-01 00:18:00</td>\n",
       "      <td>2019-01-01 00:50:00</td>\n",
       "      <td>3030</td>\n",
       "      <td>3075</td>\n",
       "      <td>5992</td>\n",
       "      <td>Walk-up</td>\n",
       "      <td>Main &amp; 1st</td>\n",
       "      <td>Broadway &amp; 9th</td>\n",
       "      <td>0 days 00:32:00</td>\n",
       "    </tr>\n",
       "    <tr>\n",
       "      <th>3</th>\n",
       "      <td>2019-01-01 00:20:00</td>\n",
       "      <td>2019-01-01 00:50:00</td>\n",
       "      <td>3030</td>\n",
       "      <td>3075</td>\n",
       "      <td>5860</td>\n",
       "      <td>Walk-up</td>\n",
       "      <td>Main &amp; 1st</td>\n",
       "      <td>Broadway &amp; 9th</td>\n",
       "      <td>0 days 00:30:00</td>\n",
       "    </tr>\n",
       "    <tr>\n",
       "      <th>4</th>\n",
       "      <td>2019-01-01 00:22:00</td>\n",
       "      <td>2019-01-01 00:50:00</td>\n",
       "      <td>3030</td>\n",
       "      <td>3075</td>\n",
       "      <td>6006</td>\n",
       "      <td>Walk-up</td>\n",
       "      <td>Main &amp; 1st</td>\n",
       "      <td>Broadway &amp; 9th</td>\n",
       "      <td>0 days 00:28:00</td>\n",
       "    </tr>\n",
       "    <tr>\n",
       "      <th>...</th>\n",
       "      <td>...</td>\n",
       "      <td>...</td>\n",
       "      <td>...</td>\n",
       "      <td>...</td>\n",
       "      <td>...</td>\n",
       "      <td>...</td>\n",
       "      <td>...</td>\n",
       "      <td>...</td>\n",
       "      <td>...</td>\n",
       "    </tr>\n",
       "    <tr>\n",
       "      <th>270650</th>\n",
       "      <td>2019-12-31 23:34:46</td>\n",
       "      <td>2019-12-31 23:42:28</td>\n",
       "      <td>3063</td>\n",
       "      <td>3069</td>\n",
       "      <td>12019</td>\n",
       "      <td>Walk-up</td>\n",
       "      <td>Pershing Square</td>\n",
       "      <td>Broadway &amp; 3rd</td>\n",
       "      <td>0 days 00:07:42</td>\n",
       "    </tr>\n",
       "    <tr>\n",
       "      <th>270651</th>\n",
       "      <td>2019-12-31 23:41:52</td>\n",
       "      <td>2019-12-31 23:50:58</td>\n",
       "      <td>4491</td>\n",
       "      <td>3022</td>\n",
       "      <td>18912</td>\n",
       "      <td>Monthly Pass</td>\n",
       "      <td>Main &amp; Winston</td>\n",
       "      <td>3rd &amp; Santa Fe</td>\n",
       "      <td>0 days 00:09:06</td>\n",
       "    </tr>\n",
       "    <tr>\n",
       "      <th>270652</th>\n",
       "      <td>2019-12-31 23:43:19</td>\n",
       "      <td>2019-12-31 23:47:41</td>\n",
       "      <td>3051</td>\n",
       "      <td>3064</td>\n",
       "      <td>12298</td>\n",
       "      <td>Annual Pass</td>\n",
       "      <td>7th &amp; Broadway</td>\n",
       "      <td>Grand &amp; 8th</td>\n",
       "      <td>0 days 00:04:22</td>\n",
       "    </tr>\n",
       "    <tr>\n",
       "      <th>270653</th>\n",
       "      <td>2019-12-31 23:48:17</td>\n",
       "      <td>2019-12-31 23:53:55</td>\n",
       "      <td>3064</td>\n",
       "      <td>3074</td>\n",
       "      <td>19053</td>\n",
       "      <td>Annual Pass</td>\n",
       "      <td>Grand &amp; 8th</td>\n",
       "      <td>Hope &amp; Olympic</td>\n",
       "      <td>0 days 00:05:38</td>\n",
       "    </tr>\n",
       "    <tr>\n",
       "      <th>270654</th>\n",
       "      <td>2019-12-31 23:58:52</td>\n",
       "      <td>2020-01-01 00:25:27</td>\n",
       "      <td>3074</td>\n",
       "      <td>3049</td>\n",
       "      <td>19053</td>\n",
       "      <td>Annual Pass</td>\n",
       "      <td>Hope &amp; Olympic</td>\n",
       "      <td>2nd &amp; Figueroa</td>\n",
       "      <td>0 days 00:26:35</td>\n",
       "    </tr>\n",
       "  </tbody>\n",
       "</table>\n",
       "<p>270635 rows × 9 columns</p>\n",
       "</div>"
      ],
      "text/plain": [
       "                start_time            end_time  start_station_id  \\\n",
       "0      2019-01-01 00:07:00 2019-01-01 00:14:00              3046   \n",
       "1      2019-01-01 00:08:00 2019-01-01 00:14:00              3046   \n",
       "2      2019-01-01 00:18:00 2019-01-01 00:50:00              3030   \n",
       "3      2019-01-01 00:20:00 2019-01-01 00:50:00              3030   \n",
       "4      2019-01-01 00:22:00 2019-01-01 00:50:00              3030   \n",
       "...                    ...                 ...               ...   \n",
       "270650 2019-12-31 23:34:46 2019-12-31 23:42:28              3063   \n",
       "270651 2019-12-31 23:41:52 2019-12-31 23:50:58              4491   \n",
       "270652 2019-12-31 23:43:19 2019-12-31 23:47:41              3051   \n",
       "270653 2019-12-31 23:48:17 2019-12-31 23:53:55              3064   \n",
       "270654 2019-12-31 23:58:52 2020-01-01 00:25:27              3074   \n",
       "\n",
       "        end_station_id bike_id     user_type start_station_name  \\\n",
       "0                 3051    6468       Walk-up         2nd & Hill   \n",
       "1                 3051   12311       Walk-up         2nd & Hill   \n",
       "2                 3075    5992       Walk-up         Main & 1st   \n",
       "3                 3075    5860       Walk-up         Main & 1st   \n",
       "4                 3075    6006       Walk-up         Main & 1st   \n",
       "...                ...     ...           ...                ...   \n",
       "270650            3069   12019       Walk-up    Pershing Square   \n",
       "270651            3022   18912  Monthly Pass     Main & Winston   \n",
       "270652            3064   12298   Annual Pass     7th & Broadway   \n",
       "270653            3074   19053   Annual Pass        Grand & 8th   \n",
       "270654            3049   19053   Annual Pass     Hope & Olympic   \n",
       "\n",
       "       end_station_name  exact_duration  \n",
       "0        7th & Broadway 0 days 00:07:00  \n",
       "1        7th & Broadway 0 days 00:06:00  \n",
       "2        Broadway & 9th 0 days 00:32:00  \n",
       "3        Broadway & 9th 0 days 00:30:00  \n",
       "4        Broadway & 9th 0 days 00:28:00  \n",
       "...                 ...             ...  \n",
       "270650   Broadway & 3rd 0 days 00:07:42  \n",
       "270651   3rd & Santa Fe 0 days 00:09:06  \n",
       "270652      Grand & 8th 0 days 00:04:22  \n",
       "270653   Hope & Olympic 0 days 00:05:38  \n",
       "270654   2nd & Figueroa 0 days 00:26:35  \n",
       "\n",
       "[270635 rows x 9 columns]"
      ]
     },
     "execution_count": 21,
     "metadata": {},
     "output_type": "execute_result"
    }
   ],
   "source": [
    "la_set[\"exact_duration\"] = la_set[\"end_time\"]-la_set[\"start_time\"]\n",
    "la_set"
   ]
  },
  {
   "cell_type": "markdown",
   "metadata": {},
   "source": [
    "#### Remove virtual station:\n",
    "Removing the station called \"virtual station\", as it cannot be used for analysis."
   ]
  },
  {
   "cell_type": "code",
   "execution_count": 22,
   "metadata": {},
   "outputs": [],
   "source": [
    "# remove virtual station VS (ID 3000)\n",
    "la_set_dropVS = la_set[(la_set[\"start_station_id\"] != 3000) & (la_set[\"end_station_id\"] != 3000)]\n",
    "# la_set_dropVS"
   ]
  },
  {
   "cell_type": "code",
   "execution_count": 7,
   "metadata": {},
   "outputs": [
    {
     "name": "stdout",
     "output_type": "stream",
     "text": [
      "4664 lines were dropped.\n"
     ]
    }
   ],
   "source": [
    "# check how many lines were dropped\n",
    "lines_dropped = len(la_set)-len(la_set_dropVS)\n",
    "print(\"{} lines were dropped.\".format(lines_dropped))"
   ]
  },
  {
   "cell_type": "markdown",
   "metadata": {},
   "source": [
    "#### Remove out of service stations:\n",
    "Dropping cells where station is out of service."
   ]
  },
  {
   "cell_type": "code",
   "execution_count": 8,
   "metadata": {},
   "outputs": [],
   "source": [
    "# drop cells where station out of service OOS\n",
    "la_set_dropOoS = la_set_dropVS[(la_set_dropVS[\"start_station_id\"] != 4285)\n",
    "                               & (la_set_dropVS[\"end_station_id\"] != 4285)]\n",
    "la_set_dropOoS.reset_index(drop=True, inplace=True)\n",
    "\n",
    "# la_set_dropOoS"
   ]
  },
  {
   "cell_type": "code",
   "execution_count": 9,
   "metadata": {},
   "outputs": [
    {
     "name": "stdout",
     "output_type": "stream",
     "text": [
      "6207 lines were dropped.\n"
     ]
    }
   ],
   "source": [
    "# Check how many lines were dropped\n",
    "lines_dropped = len(la_set_dropVS)-len(la_set_dropOoS)\n",
    "print(\"{} lines were dropped.\".format(lines_dropped))"
   ]
  },
  {
   "cell_type": "markdown",
   "metadata": {},
   "source": [
    "#### Remove long trips\n",
    "Removing trips longer than 24 hours, as they are most likely erroneous."
   ]
  },
  {
   "cell_type": "code",
   "execution_count": 10,
   "metadata": {},
   "outputs": [
    {
     "data": {
      "text/html": [
       "<div>\n",
       "<style scoped>\n",
       "    .dataframe tbody tr th:only-of-type {\n",
       "        vertical-align: middle;\n",
       "    }\n",
       "\n",
       "    .dataframe tbody tr th {\n",
       "        vertical-align: top;\n",
       "    }\n",
       "\n",
       "    .dataframe thead th {\n",
       "        text-align: right;\n",
       "    }\n",
       "</style>\n",
       "<table border=\"1\" class=\"dataframe\">\n",
       "  <thead>\n",
       "    <tr style=\"text-align: right;\">\n",
       "      <th></th>\n",
       "      <th>start_time</th>\n",
       "      <th>end_time</th>\n",
       "      <th>start_station_id</th>\n",
       "      <th>end_station_id</th>\n",
       "      <th>bike_id</th>\n",
       "      <th>user_type</th>\n",
       "      <th>start_station_name</th>\n",
       "      <th>end_station_name</th>\n",
       "      <th>exact_duration</th>\n",
       "    </tr>\n",
       "  </thead>\n",
       "  <tbody>\n",
       "    <tr>\n",
       "      <th>0</th>\n",
       "      <td>2019-01-01 00:07:00</td>\n",
       "      <td>2019-01-01 00:14:00</td>\n",
       "      <td>3046</td>\n",
       "      <td>3051</td>\n",
       "      <td>6468</td>\n",
       "      <td>Walk-up</td>\n",
       "      <td>2nd &amp; Hill</td>\n",
       "      <td>7th &amp; Broadway</td>\n",
       "      <td>0 days 00:07:00</td>\n",
       "    </tr>\n",
       "    <tr>\n",
       "      <th>1</th>\n",
       "      <td>2019-01-01 00:08:00</td>\n",
       "      <td>2019-01-01 00:14:00</td>\n",
       "      <td>3046</td>\n",
       "      <td>3051</td>\n",
       "      <td>12311</td>\n",
       "      <td>Walk-up</td>\n",
       "      <td>2nd &amp; Hill</td>\n",
       "      <td>7th &amp; Broadway</td>\n",
       "      <td>0 days 00:06:00</td>\n",
       "    </tr>\n",
       "    <tr>\n",
       "      <th>2</th>\n",
       "      <td>2019-01-01 00:18:00</td>\n",
       "      <td>2019-01-01 00:50:00</td>\n",
       "      <td>3030</td>\n",
       "      <td>3075</td>\n",
       "      <td>5992</td>\n",
       "      <td>Walk-up</td>\n",
       "      <td>Main &amp; 1st</td>\n",
       "      <td>Broadway &amp; 9th</td>\n",
       "      <td>0 days 00:32:00</td>\n",
       "    </tr>\n",
       "    <tr>\n",
       "      <th>3</th>\n",
       "      <td>2019-01-01 00:20:00</td>\n",
       "      <td>2019-01-01 00:50:00</td>\n",
       "      <td>3030</td>\n",
       "      <td>3075</td>\n",
       "      <td>5860</td>\n",
       "      <td>Walk-up</td>\n",
       "      <td>Main &amp; 1st</td>\n",
       "      <td>Broadway &amp; 9th</td>\n",
       "      <td>0 days 00:30:00</td>\n",
       "    </tr>\n",
       "    <tr>\n",
       "      <th>4</th>\n",
       "      <td>2019-01-01 00:22:00</td>\n",
       "      <td>2019-01-01 00:50:00</td>\n",
       "      <td>3030</td>\n",
       "      <td>3075</td>\n",
       "      <td>6006</td>\n",
       "      <td>Walk-up</td>\n",
       "      <td>Main &amp; 1st</td>\n",
       "      <td>Broadway &amp; 9th</td>\n",
       "      <td>0 days 00:28:00</td>\n",
       "    </tr>\n",
       "    <tr>\n",
       "      <th>...</th>\n",
       "      <td>...</td>\n",
       "      <td>...</td>\n",
       "      <td>...</td>\n",
       "      <td>...</td>\n",
       "      <td>...</td>\n",
       "      <td>...</td>\n",
       "      <td>...</td>\n",
       "      <td>...</td>\n",
       "      <td>...</td>\n",
       "    </tr>\n",
       "    <tr>\n",
       "      <th>279017</th>\n",
       "      <td>2019-12-31 23:34:46</td>\n",
       "      <td>2019-12-31 23:42:28</td>\n",
       "      <td>3063</td>\n",
       "      <td>3069</td>\n",
       "      <td>12019</td>\n",
       "      <td>Walk-up</td>\n",
       "      <td>Pershing Square</td>\n",
       "      <td>Broadway &amp; 3rd</td>\n",
       "      <td>0 days 00:07:42</td>\n",
       "    </tr>\n",
       "    <tr>\n",
       "      <th>279018</th>\n",
       "      <td>2019-12-31 23:41:52</td>\n",
       "      <td>2019-12-31 23:50:58</td>\n",
       "      <td>4491</td>\n",
       "      <td>3022</td>\n",
       "      <td>18912</td>\n",
       "      <td>Monthly Pass</td>\n",
       "      <td>Main &amp; Winston</td>\n",
       "      <td>3rd &amp; Santa Fe</td>\n",
       "      <td>0 days 00:09:06</td>\n",
       "    </tr>\n",
       "    <tr>\n",
       "      <th>279019</th>\n",
       "      <td>2019-12-31 23:43:19</td>\n",
       "      <td>2019-12-31 23:47:41</td>\n",
       "      <td>3051</td>\n",
       "      <td>3064</td>\n",
       "      <td>12298</td>\n",
       "      <td>Annual Pass</td>\n",
       "      <td>7th &amp; Broadway</td>\n",
       "      <td>Grand &amp; 8th</td>\n",
       "      <td>0 days 00:04:22</td>\n",
       "    </tr>\n",
       "    <tr>\n",
       "      <th>279020</th>\n",
       "      <td>2019-12-31 23:48:17</td>\n",
       "      <td>2019-12-31 23:53:55</td>\n",
       "      <td>3064</td>\n",
       "      <td>3074</td>\n",
       "      <td>19053</td>\n",
       "      <td>Annual Pass</td>\n",
       "      <td>Grand &amp; 8th</td>\n",
       "      <td>Hope &amp; Olympic</td>\n",
       "      <td>0 days 00:05:38</td>\n",
       "    </tr>\n",
       "    <tr>\n",
       "      <th>279021</th>\n",
       "      <td>2019-12-31 23:58:52</td>\n",
       "      <td>2020-01-01 00:25:27</td>\n",
       "      <td>3074</td>\n",
       "      <td>3049</td>\n",
       "      <td>19053</td>\n",
       "      <td>Annual Pass</td>\n",
       "      <td>Hope &amp; Olympic</td>\n",
       "      <td>2nd &amp; Figueroa</td>\n",
       "      <td>0 days 00:26:35</td>\n",
       "    </tr>\n",
       "  </tbody>\n",
       "</table>\n",
       "<p>279022 rows × 9 columns</p>\n",
       "</div>"
      ],
      "text/plain": [
       "                start_time            end_time  start_station_id  \\\n",
       "0      2019-01-01 00:07:00 2019-01-01 00:14:00              3046   \n",
       "1      2019-01-01 00:08:00 2019-01-01 00:14:00              3046   \n",
       "2      2019-01-01 00:18:00 2019-01-01 00:50:00              3030   \n",
       "3      2019-01-01 00:20:00 2019-01-01 00:50:00              3030   \n",
       "4      2019-01-01 00:22:00 2019-01-01 00:50:00              3030   \n",
       "...                    ...                 ...               ...   \n",
       "279017 2019-12-31 23:34:46 2019-12-31 23:42:28              3063   \n",
       "279018 2019-12-31 23:41:52 2019-12-31 23:50:58              4491   \n",
       "279019 2019-12-31 23:43:19 2019-12-31 23:47:41              3051   \n",
       "279020 2019-12-31 23:48:17 2019-12-31 23:53:55              3064   \n",
       "279021 2019-12-31 23:58:52 2020-01-01 00:25:27              3074   \n",
       "\n",
       "        end_station_id bike_id     user_type start_station_name  \\\n",
       "0                 3051    6468       Walk-up         2nd & Hill   \n",
       "1                 3051   12311       Walk-up         2nd & Hill   \n",
       "2                 3075    5992       Walk-up         Main & 1st   \n",
       "3                 3075    5860       Walk-up         Main & 1st   \n",
       "4                 3075    6006       Walk-up         Main & 1st   \n",
       "...                ...     ...           ...                ...   \n",
       "279017            3069   12019       Walk-up    Pershing Square   \n",
       "279018            3022   18912  Monthly Pass     Main & Winston   \n",
       "279019            3064   12298   Annual Pass     7th & Broadway   \n",
       "279020            3074   19053   Annual Pass        Grand & 8th   \n",
       "279021            3049   19053   Annual Pass     Hope & Olympic   \n",
       "\n",
       "       end_station_name  exact_duration  \n",
       "0        7th & Broadway 0 days 00:07:00  \n",
       "1        7th & Broadway 0 days 00:06:00  \n",
       "2        Broadway & 9th 0 days 00:32:00  \n",
       "3        Broadway & 9th 0 days 00:30:00  \n",
       "4        Broadway & 9th 0 days 00:28:00  \n",
       "...                 ...             ...  \n",
       "279017   Broadway & 3rd 0 days 00:07:42  \n",
       "279018   3rd & Santa Fe 0 days 00:09:06  \n",
       "279019      Grand & 8th 0 days 00:04:22  \n",
       "279020   Hope & Olympic 0 days 00:05:38  \n",
       "279021   2nd & Figueroa 0 days 00:26:35  \n",
       "\n",
       "[279022 rows x 9 columns]"
      ]
     },
     "execution_count": 10,
     "metadata": {},
     "output_type": "execute_result"
    }
   ],
   "source": [
    "# Trips over 24 hours (long trips)\n",
    "\n",
    "# drop cells where duration is over 24h\n",
    "\n",
    "\n",
    "#more complex but unnessesary\n",
    "la_set_dropLt = la_set_dropOoS[la_set_dropOoS[\"exact_duration\"].apply(lambda x: x.total_seconds()) < (24*60*60)]\n",
    "\n",
    "#[(la_set_dropOoS[\"exact_duration\"].total_seconds())  > (24*60*60)]\n",
    "la_set_dropLt.reset_index(drop=True, inplace=True)\n",
    "la_set_dropLt"
   ]
  },
  {
   "cell_type": "code",
   "execution_count": 11,
   "metadata": {},
   "outputs": [
    {
     "name": "stdout",
     "output_type": "stream",
     "text": [
      "449 lines were dropped.\n"
     ]
    }
   ],
   "source": [
    "# Check how many lines were dropped\n",
    "lines_dropped = len(la_set_dropOoS)-len(la_set_dropLt)\n",
    "print(\"{} lines were dropped.\".format(lines_dropped))"
   ]
  },
  {
   "cell_type": "markdown",
   "metadata": {},
   "source": [
    "#### Remove short trips:\n",
    "Removing trips where the start location is the same as the end location and the duration of the trip is below 5 minutes."
   ]
  },
  {
   "cell_type": "code",
   "execution_count": 12,
   "metadata": {},
   "outputs": [],
   "source": [
    "# same start and  end-stations and duration 5min or below\n",
    "la_set_dropSrt = la_set_dropLt[((la_set_dropLt[\"start_station_id\"] == la_set_dropLt[\"end_station_id\"])\n",
    "                               & (la_set_dropLt[\"exact_duration\"].apply(lambda x: x.total_seconds()) > (5*60)))\n",
    "                               | (la_set_dropLt[\"start_station_id\"] != la_set_dropLt[\"end_station_id\"])]\n",
    "la_set_dropSrt.reset_index(drop=True, inplace=True)\n",
    "# la_set_dropSrt"
   ]
  },
  {
   "cell_type": "code",
   "execution_count": 13,
   "metadata": {},
   "outputs": [
    {
     "name": "stdout",
     "output_type": "stream",
     "text": [
      "8367 lines were dropped.\n"
     ]
    }
   ],
   "source": [
    "#Check how many lines were dropped\n",
    "lines_dropped = len(la_set_dropLt)-len(la_set_dropSrt)\n",
    "print(\"{} lines were dropped.\".format(lines_dropped))"
   ]
  },
  {
   "cell_type": "markdown",
   "metadata": {},
   "source": [
    "Removing all trips where the duration is below one minute."
   ]
  },
  {
   "cell_type": "code",
   "execution_count": 14,
   "metadata": {},
   "outputs": [
    {
     "name": "stdout",
     "output_type": "stream",
     "text": [
      "20 lines were dropped.\n",
      "270635\n"
     ]
    }
   ],
   "source": [
    "# drop cells where exact_duration is under 1min\n",
    "la_set_dropOm = la_set_dropSrt[la_set_dropSrt[\"exact_duration\"].apply(lambda x: x.total_seconds()) > 59]\n",
    "\n",
    "# Check how many lines were dropped\n",
    "lines_dropped = len(la_set_dropSrt)-len(la_set_dropOm)\n",
    "print(\"{} lines were dropped.\".format(lines_dropped))\n",
    "print(len(la_set_dropOm))"
   ]
  },
  {
   "cell_type": "markdown",
   "metadata": {},
   "source": [
    "#### Remove missing values:\n",
    "Removing all trips with null values."
   ]
  },
  {
   "cell_type": "code",
   "execution_count": 23,
   "metadata": {},
   "outputs": [],
   "source": [
    "# drop rows which have null values\n",
    "la_set_dropNv = la_set_dropOm.dropna(axis=0, inplace=False)\n",
    "# la_set_dropNv"
   ]
  },
  {
   "cell_type": "markdown",
   "metadata": {},
   "source": [
    "#### Remove test users:\n",
    "Removing all trips where the user type is \"testing\", as the testing trips do not represent customer's demand."
   ]
  },
  {
   "cell_type": "code",
   "execution_count": 16,
   "metadata": {},
   "outputs": [
    {
     "name": "stdout",
     "output_type": "stream",
     "text": [
      "29 lines were dropped.\n",
      "270635\n"
     ]
    }
   ],
   "source": [
    "#remove testing\n",
    "la_set_dropTst = la_set_dropNv[(la_set_dropNv[\"user_type\"] != \"Testing\")]\n",
    "\n",
    "# Chek how many lines were dropped\n",
    "lines_dropped = len(la_set_dropNv)-len(la_set_dropTst)\n",
    "print(\"{} lines were dropped.\".format(lines_dropped))\n",
    "print(len(la_set_dropOm))"
   ]
  },
  {
   "cell_type": "markdown",
   "metadata": {},
   "source": [
    "#### How many lines were dropped in total:"
   ]
  },
  {
   "cell_type": "code",
   "execution_count": 17,
   "metadata": {},
   "outputs": [
    {
     "name": "stdout",
     "output_type": "stream",
     "text": [
      "19736 lines were dropped.\n"
     ]
    }
   ],
   "source": [
    "# Check how many lines were dropped\n",
    "lines_dropped = len(la_set)-len(la_set_dropTst)\n",
    "print(\"{} lines were dropped.\".format(lines_dropped))"
   ]
  },
  {
   "cell_type": "markdown",
   "metadata": {},
   "source": [
    "## The final dataset:"
   ]
  },
  {
   "cell_type": "code",
   "execution_count": 19,
   "metadata": {
    "scrolled": false
   },
   "outputs": [
    {
     "data": {
      "text/html": [
       "<div>\n",
       "<style scoped>\n",
       "    .dataframe tbody tr th:only-of-type {\n",
       "        vertical-align: middle;\n",
       "    }\n",
       "\n",
       "    .dataframe tbody tr th {\n",
       "        vertical-align: top;\n",
       "    }\n",
       "\n",
       "    .dataframe thead th {\n",
       "        text-align: right;\n",
       "    }\n",
       "</style>\n",
       "<table border=\"1\" class=\"dataframe\">\n",
       "  <thead>\n",
       "    <tr style=\"text-align: right;\">\n",
       "      <th></th>\n",
       "      <th>start_time</th>\n",
       "      <th>end_time</th>\n",
       "      <th>start_station_id</th>\n",
       "      <th>end_station_id</th>\n",
       "      <th>bike_id</th>\n",
       "      <th>user_type</th>\n",
       "      <th>start_station_name</th>\n",
       "      <th>end_station_name</th>\n",
       "      <th>exact_duration</th>\n",
       "    </tr>\n",
       "  </thead>\n",
       "  <tbody>\n",
       "    <tr>\n",
       "      <th>0</th>\n",
       "      <td>2019-01-01 00:07:00</td>\n",
       "      <td>2019-01-01 00:14:00</td>\n",
       "      <td>3046</td>\n",
       "      <td>3051</td>\n",
       "      <td>6468</td>\n",
       "      <td>Walk-up</td>\n",
       "      <td>2nd &amp; Hill</td>\n",
       "      <td>7th &amp; Broadway</td>\n",
       "      <td>0 days 00:07:00</td>\n",
       "    </tr>\n",
       "    <tr>\n",
       "      <th>1</th>\n",
       "      <td>2019-01-01 00:08:00</td>\n",
       "      <td>2019-01-01 00:14:00</td>\n",
       "      <td>3046</td>\n",
       "      <td>3051</td>\n",
       "      <td>12311</td>\n",
       "      <td>Walk-up</td>\n",
       "      <td>2nd &amp; Hill</td>\n",
       "      <td>7th &amp; Broadway</td>\n",
       "      <td>0 days 00:06:00</td>\n",
       "    </tr>\n",
       "    <tr>\n",
       "      <th>2</th>\n",
       "      <td>2019-01-01 00:18:00</td>\n",
       "      <td>2019-01-01 00:50:00</td>\n",
       "      <td>3030</td>\n",
       "      <td>3075</td>\n",
       "      <td>5992</td>\n",
       "      <td>Walk-up</td>\n",
       "      <td>Main &amp; 1st</td>\n",
       "      <td>Broadway &amp; 9th</td>\n",
       "      <td>0 days 00:32:00</td>\n",
       "    </tr>\n",
       "    <tr>\n",
       "      <th>3</th>\n",
       "      <td>2019-01-01 00:20:00</td>\n",
       "      <td>2019-01-01 00:50:00</td>\n",
       "      <td>3030</td>\n",
       "      <td>3075</td>\n",
       "      <td>5860</td>\n",
       "      <td>Walk-up</td>\n",
       "      <td>Main &amp; 1st</td>\n",
       "      <td>Broadway &amp; 9th</td>\n",
       "      <td>0 days 00:30:00</td>\n",
       "    </tr>\n",
       "    <tr>\n",
       "      <th>4</th>\n",
       "      <td>2019-01-01 00:22:00</td>\n",
       "      <td>2019-01-01 00:50:00</td>\n",
       "      <td>3030</td>\n",
       "      <td>3075</td>\n",
       "      <td>6006</td>\n",
       "      <td>Walk-up</td>\n",
       "      <td>Main &amp; 1st</td>\n",
       "      <td>Broadway &amp; 9th</td>\n",
       "      <td>0 days 00:28:00</td>\n",
       "    </tr>\n",
       "    <tr>\n",
       "      <th>...</th>\n",
       "      <td>...</td>\n",
       "      <td>...</td>\n",
       "      <td>...</td>\n",
       "      <td>...</td>\n",
       "      <td>...</td>\n",
       "      <td>...</td>\n",
       "      <td>...</td>\n",
       "      <td>...</td>\n",
       "      <td>...</td>\n",
       "    </tr>\n",
       "    <tr>\n",
       "      <th>270650</th>\n",
       "      <td>2019-12-31 23:34:46</td>\n",
       "      <td>2019-12-31 23:42:28</td>\n",
       "      <td>3063</td>\n",
       "      <td>3069</td>\n",
       "      <td>12019</td>\n",
       "      <td>Walk-up</td>\n",
       "      <td>Pershing Square</td>\n",
       "      <td>Broadway &amp; 3rd</td>\n",
       "      <td>0 days 00:07:42</td>\n",
       "    </tr>\n",
       "    <tr>\n",
       "      <th>270651</th>\n",
       "      <td>2019-12-31 23:41:52</td>\n",
       "      <td>2019-12-31 23:50:58</td>\n",
       "      <td>4491</td>\n",
       "      <td>3022</td>\n",
       "      <td>18912</td>\n",
       "      <td>Monthly Pass</td>\n",
       "      <td>Main &amp; Winston</td>\n",
       "      <td>3rd &amp; Santa Fe</td>\n",
       "      <td>0 days 00:09:06</td>\n",
       "    </tr>\n",
       "    <tr>\n",
       "      <th>270652</th>\n",
       "      <td>2019-12-31 23:43:19</td>\n",
       "      <td>2019-12-31 23:47:41</td>\n",
       "      <td>3051</td>\n",
       "      <td>3064</td>\n",
       "      <td>12298</td>\n",
       "      <td>Annual Pass</td>\n",
       "      <td>7th &amp; Broadway</td>\n",
       "      <td>Grand &amp; 8th</td>\n",
       "      <td>0 days 00:04:22</td>\n",
       "    </tr>\n",
       "    <tr>\n",
       "      <th>270653</th>\n",
       "      <td>2019-12-31 23:48:17</td>\n",
       "      <td>2019-12-31 23:53:55</td>\n",
       "      <td>3064</td>\n",
       "      <td>3074</td>\n",
       "      <td>19053</td>\n",
       "      <td>Annual Pass</td>\n",
       "      <td>Grand &amp; 8th</td>\n",
       "      <td>Hope &amp; Olympic</td>\n",
       "      <td>0 days 00:05:38</td>\n",
       "    </tr>\n",
       "    <tr>\n",
       "      <th>270654</th>\n",
       "      <td>2019-12-31 23:58:52</td>\n",
       "      <td>2020-01-01 00:25:27</td>\n",
       "      <td>3074</td>\n",
       "      <td>3049</td>\n",
       "      <td>19053</td>\n",
       "      <td>Annual Pass</td>\n",
       "      <td>Hope &amp; Olympic</td>\n",
       "      <td>2nd &amp; Figueroa</td>\n",
       "      <td>0 days 00:26:35</td>\n",
       "    </tr>\n",
       "  </tbody>\n",
       "</table>\n",
       "<p>270635 rows × 9 columns</p>\n",
       "</div>"
      ],
      "text/plain": [
       "                start_time            end_time  start_station_id  \\\n",
       "0      2019-01-01 00:07:00 2019-01-01 00:14:00              3046   \n",
       "1      2019-01-01 00:08:00 2019-01-01 00:14:00              3046   \n",
       "2      2019-01-01 00:18:00 2019-01-01 00:50:00              3030   \n",
       "3      2019-01-01 00:20:00 2019-01-01 00:50:00              3030   \n",
       "4      2019-01-01 00:22:00 2019-01-01 00:50:00              3030   \n",
       "...                    ...                 ...               ...   \n",
       "270650 2019-12-31 23:34:46 2019-12-31 23:42:28              3063   \n",
       "270651 2019-12-31 23:41:52 2019-12-31 23:50:58              4491   \n",
       "270652 2019-12-31 23:43:19 2019-12-31 23:47:41              3051   \n",
       "270653 2019-12-31 23:48:17 2019-12-31 23:53:55              3064   \n",
       "270654 2019-12-31 23:58:52 2020-01-01 00:25:27              3074   \n",
       "\n",
       "        end_station_id bike_id     user_type start_station_name  \\\n",
       "0                 3051    6468       Walk-up         2nd & Hill   \n",
       "1                 3051   12311       Walk-up         2nd & Hill   \n",
       "2                 3075    5992       Walk-up         Main & 1st   \n",
       "3                 3075    5860       Walk-up         Main & 1st   \n",
       "4                 3075    6006       Walk-up         Main & 1st   \n",
       "...                ...     ...           ...                ...   \n",
       "270650            3069   12019       Walk-up    Pershing Square   \n",
       "270651            3022   18912  Monthly Pass     Main & Winston   \n",
       "270652            3064   12298   Annual Pass     7th & Broadway   \n",
       "270653            3074   19053   Annual Pass        Grand & 8th   \n",
       "270654            3049   19053   Annual Pass     Hope & Olympic   \n",
       "\n",
       "       end_station_name  exact_duration  \n",
       "0        7th & Broadway 0 days 00:07:00  \n",
       "1        7th & Broadway 0 days 00:06:00  \n",
       "2        Broadway & 9th 0 days 00:32:00  \n",
       "3        Broadway & 9th 0 days 00:30:00  \n",
       "4        Broadway & 9th 0 days 00:28:00  \n",
       "...                 ...             ...  \n",
       "270650   Broadway & 3rd 0 days 00:07:42  \n",
       "270651   3rd & Santa Fe 0 days 00:09:06  \n",
       "270652      Grand & 8th 0 days 00:04:22  \n",
       "270653   Hope & Olympic 0 days 00:05:38  \n",
       "270654   2nd & Figueroa 0 days 00:26:35  \n",
       "\n",
       "[270635 rows x 9 columns]"
      ]
     },
     "execution_count": 19,
     "metadata": {},
     "output_type": "execute_result"
    }
   ],
   "source": [
    "# assign la_set to dataset where Out Of Service and Virtual Station are removed\n",
    "la_set = la_set_dropNv\n",
    "#reset indices\n",
    "la_set.reset_index(drop=True)\n",
    "# print  the final dataset\n",
    "la_set"
   ]
  },
  {
   "cell_type": "markdown",
   "metadata": {},
   "source": [
    "Saving the dataset to allow the import to the other files."
   ]
  },
  {
   "cell_type": "code",
   "execution_count": 20,
   "metadata": {},
   "outputs": [],
   "source": [
    "la_set.to_pickle(\"la_set.pkl\")"
   ]
  }
 ],
 "metadata": {
  "kernelspec": {
   "display_name": "Python 3",
   "language": "python",
   "name": "python3"
  },
  "language_info": {
   "codemirror_mode": {
    "name": "ipython",
    "version": 3
   },
   "file_extension": ".py",
   "mimetype": "text/x-python",
   "name": "python",
   "nbconvert_exporter": "python",
   "pygments_lexer": "ipython3",
   "version": "3.8.10"
  }
 },
 "nbformat": 4,
 "nbformat_minor": 4
}
