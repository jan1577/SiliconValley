{
 "cells": [
  {
   "cell_type": "markdown",
   "id": "dfc0eee0",
   "metadata": {},
   "source": [
    "## Decision Tree"
   ]
  },
  {
   "cell_type": "markdown",
   "id": "55e48ef4",
   "metadata": {},
   "source": [
    "Import statements"
   ]
  },
  {
   "cell_type": "code",
   "execution_count": 2,
   "id": "e3097eb6",
   "metadata": {},
   "outputs": [],
   "source": [
    "import pandas as pd\n",
    "import numpy as np\n",
    "import datetime as dt\n",
    "\n",
    "import matplotlib as mpl\n",
    "import seaborn as sns\n",
    "from matplotlib import pyplot as plt\n",
    "%matplotlib inline\n",
    "\n",
    "import sklearn\n",
    "import warnings\n",
    "from sklearn.linear_model import LinearRegression\n",
    "\n",
    "from sklearn.metrics import mean_squared_error, mean_absolute_error, r2_score\n",
    "from sklearn.model_selection import train_test_split\n",
    "\n",
    "#not using atm\n",
    "# from sklearn.tree import DecisionTreeRegressor, export_graphviz\n",
    "\n",
    "from sklearn.tree import DecisionTreeRegressor\n",
    "from sklearn.model_selection import cross_val_score"
   ]
  },
  {
   "cell_type": "markdown",
   "id": "53156b50",
   "metadata": {},
   "source": [
    "Reading in our feature set"
   ]
  },
  {
   "cell_type": "code",
   "execution_count": 3,
   "id": "24085f0f",
   "metadata": {
    "scrolled": false
   },
   "outputs": [
    {
     "data": {
      "text/html": [
       "<div>\n",
       "<style scoped>\n",
       "    .dataframe tbody tr th:only-of-type {\n",
       "        vertical-align: middle;\n",
       "    }\n",
       "\n",
       "    .dataframe tbody tr th {\n",
       "        vertical-align: top;\n",
       "    }\n",
       "\n",
       "    .dataframe thead th {\n",
       "        text-align: right;\n",
       "    }\n",
       "</style>\n",
       "<table border=\"1\" class=\"dataframe\">\n",
       "  <thead>\n",
       "    <tr style=\"text-align: right;\">\n",
       "      <th></th>\n",
       "      <th>max_temp</th>\n",
       "      <th>precip</th>\n",
       "      <th>amount</th>\n",
       "      <th>day_of_week</th>\n",
       "      <th>hour_of_the_day</th>\n",
       "      <th>month</th>\n",
       "    </tr>\n",
       "    <tr>\n",
       "      <th>hour_from_zero</th>\n",
       "      <th></th>\n",
       "      <th></th>\n",
       "      <th></th>\n",
       "      <th></th>\n",
       "      <th></th>\n",
       "      <th></th>\n",
       "    </tr>\n",
       "  </thead>\n",
       "  <tbody>\n",
       "    <tr>\n",
       "      <th>1</th>\n",
       "      <td>15.6</td>\n",
       "      <td>0</td>\n",
       "      <td>19</td>\n",
       "      <td>1</td>\n",
       "      <td>1</td>\n",
       "      <td>1</td>\n",
       "    </tr>\n",
       "    <tr>\n",
       "      <th>2</th>\n",
       "      <td>15.0</td>\n",
       "      <td>0</td>\n",
       "      <td>8</td>\n",
       "      <td>1</td>\n",
       "      <td>2</td>\n",
       "      <td>1</td>\n",
       "    </tr>\n",
       "    <tr>\n",
       "      <th>3</th>\n",
       "      <td>15.0</td>\n",
       "      <td>0</td>\n",
       "      <td>16</td>\n",
       "      <td>1</td>\n",
       "      <td>3</td>\n",
       "      <td>1</td>\n",
       "    </tr>\n",
       "  </tbody>\n",
       "</table>\n",
       "</div>"
      ],
      "text/plain": [
       "                max_temp  precip  amount  day_of_week  hour_of_the_day  month\n",
       "hour_from_zero                                                               \n",
       "1                   15.6       0      19            1                1      1\n",
       "2                   15.0       0       8            1                2      1\n",
       "3                   15.0       0      16            1                3      1"
      ]
     },
     "execution_count": 3,
     "metadata": {},
     "output_type": "execute_result"
    }
   ],
   "source": [
    "feature_set = pd.read_pickle(\"feature_set.pkl\")\n",
    "feature_set.head(3)"
   ]
  },
  {
   "cell_type": "markdown",
   "id": "1403733e",
   "metadata": {},
   "source": [
    "Try different depths in order to get the best fit using r^2"
   ]
  },
  {
   "cell_type": "code",
   "execution_count": 4,
   "id": "a6e17754",
   "metadata": {},
   "outputs": [],
   "source": [
    "depths = [None, 2,3,4,5,6,7,8,9,10,15,20,25, 50, 100]\n",
    "scores_mean = []"
   ]
  },
  {
   "cell_type": "code",
   "execution_count": 5,
   "id": "0646396c",
   "metadata": {
    "scrolled": false
   },
   "outputs": [],
   "source": [
    "for depth_ in depths:\n",
    "    regressor = DecisionTreeRegressor(max_depth = depth_)\n",
    "# regressor.fit(weather_demand_final[['max_temp', 'precip', 'day_of_week', 'hour_of_the_day', 'month']], \n",
    "#               weather_demand_final['amount'])\n",
    "\n",
    "\n",
    "    regressor.fit(feature_set[['max_temp', 'precip', 'day_of_week', 'hour_of_the_day', 'month']], \n",
    "                  feature_set['amount'])\n",
    "    \n",
    "    scores = cross_val_score(regressor, feature_set[['max_temp', 'precip', 'day_of_week', 'hour_of_the_day', 'month']], \n",
    "                          feature_set['amount'], scoring='r2', cv=10)\n",
    "    scores_mean.append((depth_, scores.mean()))\n",
    "    #print(depth_, scores.mean())\n"
   ]
  },
  {
   "cell_type": "code",
   "execution_count": 6,
   "id": "1c6dfc30",
   "metadata": {
    "scrolled": true
   },
   "outputs": [
    {
     "data": {
      "text/plain": [
       "[(None, 0.5234554771270981),\n",
       " (2, 0.5023946391865002),\n",
       " (3, 0.5748985691407528),\n",
       " (4, 0.6240718717376872),\n",
       " (5, 0.6585424627015103),\n",
       " (6, 0.6716115096854678),\n",
       " (7, 0.6742033905556125),\n",
       " (8, 0.6751233533426777),\n",
       " (9, 0.6617336673087302),\n",
       " (10, 0.6350795088924275),\n",
       " (15, 0.5178945436428694),\n",
       " (20, 0.5200510661433487),\n",
       " (25, 0.5257096020117447),\n",
       " (50, 0.5157974609765823),\n",
       " (100, 0.5175602133987112)]"
      ]
     },
     "execution_count": 6,
     "metadata": {},
     "output_type": "execute_result"
    }
   ],
   "source": [
    "scores_mean"
   ]
  },
  {
   "cell_type": "markdown",
   "id": "6869d975",
   "metadata": {},
   "source": [
    "Plot the r^2 values for different depths"
   ]
  },
  {
   "cell_type": "code",
   "execution_count": 7,
   "id": "e1ebeadf",
   "metadata": {},
   "outputs": [
    {
     "data": {
      "image/png": "[encoded data removed]",
      "text/plain": [
       "<Figure size 1080x648 with 1 Axes>"
      ]
     },
     "metadata": {
      "needs_background": "light"
     },
     "output_type": "display_data"
    }
   ],
   "source": [
    "#plotting depths and R² \n",
    "fig, ax = plt.subplots(figsize = (15,9))\n",
    "x,y = zip(*scores_mean)\n",
    "\n",
    "ax.plot(x,y)\n",
    "ax.set_xlabel(\"depth\")\n",
    "ax.set_ylabel(\"R²\")\n",
    "\n",
    "plt.show()"
   ]
  },
  {
   "cell_type": "markdown",
   "id": "e2f05aae",
   "metadata": {},
   "source": [
    "Search for best depth"
   ]
  },
  {
   "cell_type": "code",
   "execution_count": 8,
   "id": "bc5fc814",
   "metadata": {
    "scrolled": true
   },
   "outputs": [
    {
     "data": {
      "text/plain": [
       "(8, 0.6751233533426777)"
      ]
     },
     "execution_count": 8,
     "metadata": {},
     "output_type": "execute_result"
    }
   ],
   "source": [
    "max(scores_mean ,key=lambda item:item[1])"
   ]
  },
  {
   "cell_type": "markdown",
   "id": "6fc658b6",
   "metadata": {},
   "source": [
    "Using depth = 8, trying different number of splits"
   ]
  },
  {
   "cell_type": "code",
   "execution_count": 9,
   "id": "54dbdd3e",
   "metadata": {},
   "outputs": [
    {
     "data": {
      "text/plain": [
       "DecisionTreeRegressor(max_depth=8)"
      ]
     },
     "execution_count": 9,
     "metadata": {},
     "output_type": "execute_result"
    }
   ],
   "source": [
    "regressor = DecisionTreeRegressor(max_depth=8)\n",
    "regressor"
   ]
  },
  {
   "cell_type": "code",
   "execution_count": 10,
   "id": "72bfd291",
   "metadata": {},
   "outputs": [],
   "source": [
    "number_of_splits = []\n",
    "for i in range (2,15):\n",
    "    number_of_splits.append(i)"
   ]
  },
  {
   "cell_type": "code",
   "execution_count": 11,
   "id": "be823e70",
   "metadata": {},
   "outputs": [],
   "source": [
    "scores_mean = []\n",
    "for num in number_of_splits:\n",
    "    scores = cross_val_score(regressor, feature_set[['max_temp', 'precip', 'day_of_week', \n",
    "                                                                'hour_of_the_day', 'month']], \n",
    "                              feature_set['amount'], scoring = 'r2', cv= num)\n",
    "    scores_mean.append((num, scores.mean()))\n",
    "# scores_mean"
   ]
  },
  {
   "cell_type": "markdown",
   "id": "016dc3c4",
   "metadata": {},
   "source": [
    "plot r^2 values for different numbers of splits"
   ]
  },
  {
   "cell_type": "code",
   "execution_count": 12,
   "id": "d8367940",
   "metadata": {},
   "outputs": [
    {
     "data": {
      "text/plain": [
       "[<matplotlib.lines.Line2D at 0x267cbc82e50>]"
      ]
     },
     "execution_count": 12,
     "metadata": {},
     "output_type": "execute_result"
    },
    {
     "data": {
      "image/png": "[encoded data removed]",
      "text/plain": [
       "<Figure size 576x432 with 1 Axes>"
      ]
     },
     "metadata": {
      "needs_background": "light"
     },
     "output_type": "display_data"
    }
   ],
   "source": [
    "plt.figure(figsize = (8,6))\n",
    "x,y = zip(*scores_mean)\n",
    "\n",
    "plt.plot(x,y)"
   ]
  },
  {
   "cell_type": "code",
   "execution_count": 13,
   "id": "4e48041e",
   "metadata": {},
   "outputs": [
    {
     "name": "stdout",
     "output_type": "stream",
     "text": [
      "Number of Splits, R^2: (11, 0.7192033449812123)\n"
     ]
    }
   ],
   "source": [
    "print(\"Number of Splits, R^2:\", max(scores_mean ,key=lambda item:item[1]))"
   ]
  },
  {
   "cell_type": "markdown",
   "id": "6ba4a976",
   "metadata": {},
   "source": [
    "Search for best combination of splits and depth to check if it's the same as it was when we searched for best values seperately"
   ]
  },
  {
   "cell_type": "code",
   "execution_count": 14,
   "id": "5e2415b7",
   "metadata": {
    "scrolled": true
   },
   "outputs": [],
   "source": [
    "scores_mean2 = []\n",
    "for depth_ in depths:\n",
    "    for num in number_of_splits:\n",
    "        regressor = DecisionTreeRegressor(max_depth = depth_)\n",
    "        regressor.fit(feature_set[['max_temp', 'precip', 'day_of_week', 'hour_of_the_day', 'month']], \n",
    "                  feature_set['amount'])\n",
    "    \n",
    "        scores = cross_val_score(regressor, feature_set[['max_temp', 'precip', 'day_of_week', 'hour_of_the_day', 'month']], \n",
    "                          feature_set['amount'], scoring='r2', cv=num)\n",
    "        scores_mean2.append((depth_, num, scores.mean()))\n",
    "        "
   ]
  },
  {
   "cell_type": "code",
   "execution_count": 15,
   "id": "89e4ee8d",
   "metadata": {
    "scrolled": true
   },
   "outputs": [
    {
     "name": "stdout",
     "output_type": "stream",
     "text": [
      "Depth, Number of Splits, R^2: (8, 11, 0.7189036566830718)\n"
     ]
    }
   ],
   "source": [
    "print(\"Depth, Number of Splits, R^2:\", max(scores_mean2 ,key=lambda item:item[2]))"
   ]
  },
  {
   "cell_type": "markdown",
   "id": "b839b927",
   "metadata": {},
   "source": [
    "Best combination depth 8, number of splits 11"
   ]
  },
  {
   "cell_type": "markdown",
   "id": "309dac25",
   "metadata": {},
   "source": [
    "Get different scores (MAE, MSE, RMSE)"
   ]
  },
  {
   "cell_type": "code",
   "execution_count": 16,
   "id": "de9d2643",
   "metadata": {},
   "outputs": [],
   "source": [
    "scorers = ['neg_mean_absolute_error', 'neg_mean_squared_error', 'neg_root_mean_squared_error']"
   ]
  },
  {
   "cell_type": "code",
   "execution_count": 17,
   "id": "0790a8bf",
   "metadata": {
    "scrolled": false
   },
   "outputs": [
    {
     "name": "stdout",
     "output_type": "stream",
     "text": [
      "neg_mean_absolute_error\n",
      "[ 8.65842461  8.26942215  5.78477756  5.84623734  6.56239727  7.33209867\n",
      "  7.93732642  8.3271854   9.42120501 10.9612852  10.81185004]\n",
      "mean: 8.173837241685897\n",
      "\n",
      "neg_mean_squared_error\n",
      "[169.05865882 166.02627916  62.8995268   70.15405584  87.44634164\n",
      " 107.9363979  137.55825897 135.14496721 444.18601875 264.54324438\n",
      " 271.15001494]\n",
      "mean: 174.1912513089913\n",
      "\n",
      "neg_root_mean_squared_error\n",
      "[12.9965397  12.88433654  7.93092219  8.3758018   9.35127487 10.38848665\n",
      " 11.73619869 11.62518676 21.07572107 16.26478541 16.54692444]\n",
      "mean: 12.652379829372245\n",
      "\n"
     ]
    }
   ],
   "source": [
    "regressor = DecisionTreeRegressor(max_depth=8)\n",
    "for scorer in scorers:\n",
    "    scores = -cross_val_score(regressor,feature_set[['max_temp', 'precip', 'day_of_week', \n",
    "                                                            'hour_of_the_day', 'month']], \n",
    "                          feature_set['amount'], scoring = scorer, cv=11)\n",
    "    print(scorer)\n",
    "    print(scores)\n",
    "    print(\"mean:\", scores.mean())\n",
    "    print(\"\")"
   ]
  },
  {
   "cell_type": "markdown",
   "id": "0ead7e05",
   "metadata": {},
   "source": [
    "Finetuning of hyperparameters"
   ]
  },
  {
   "cell_type": "code",
   "execution_count": 18,
   "id": "5733fdd9",
   "metadata": {},
   "outputs": [],
   "source": [
    "# min_samples_split: int, float, optional (default=2)\n",
    "# The minimum number of samples required to split an internal node\n",
    "sp = [2,3,4,5,6,7,8,9,10]\n",
    "scores_mean = []"
   ]
  },
  {
   "cell_type": "code",
   "execution_count": 19,
   "id": "7e53d380",
   "metadata": {},
   "outputs": [],
   "source": [
    "for sp_ in sp:    \n",
    "    regressor = DecisionTreeRegressor(max_depth=8, min_samples_split = sp_)\n",
    "    regressor.fit(feature_set[['max_temp', 'precip', 'day_of_week', 'hour_of_the_day', 'month']], \n",
    "                  feature_set['amount'])\n",
    "    scores = cross_val_score(regressor, feature_set[['max_temp', 'precip', 'day_of_week', 'hour_of_the_day', 'month']], \n",
    "                             feature_set['amount'], scoring='r2', cv=11)\n",
    "    scores_mean.append((sp_, scores.mean()))"
   ]
  },
  {
   "cell_type": "code",
   "execution_count": 20,
   "id": "ecb70104",
   "metadata": {
    "scrolled": true
   },
   "outputs": [
    {
     "name": "stdout",
     "output_type": "stream",
     "text": [
      "min_sample_split, r^2 (8, 0.7205315892142228)\n"
     ]
    }
   ],
   "source": [
    "print(\"min_sample_split, r^2\", max(scores_mean ,key=lambda item:item[1]))"
   ]
  },
  {
   "cell_type": "code",
   "execution_count": 21,
   "id": "2585d48d",
   "metadata": {},
   "outputs": [
    {
     "data": {
      "text/plain": [
       "DecisionTreeRegressor(max_depth=8, min_samples_split=8)"
      ]
     },
     "execution_count": 21,
     "metadata": {},
     "output_type": "execute_result"
    }
   ],
   "source": [
    "regressor = DecisionTreeRegressor(max_depth=8, min_samples_split = 8)\n",
    "regressor.fit(feature_set[['max_temp', 'precip', 'day_of_week', 'hour_of_the_day', 'month']], \n",
    "                  feature_set['amount'])"
   ]
  },
  {
   "cell_type": "code",
   "execution_count": 22,
   "id": "df6d05dc",
   "metadata": {},
   "outputs": [],
   "source": [
    "#create a list for our final scores\n",
    "final_values = []\n",
    "# add r^2 value to final_values\n",
    "final_values.append((max(scores_mean ,key=lambda item:item[1]))[1])"
   ]
  },
  {
   "cell_type": "code",
   "execution_count": 23,
   "id": "65ab2e8e",
   "metadata": {
    "scrolled": true
   },
   "outputs": [
    {
     "name": "stdout",
     "output_type": "stream",
     "text": [
      "neg_mean_absolute_error\n",
      "[ 8.61988557  8.22150324  5.8012763   5.83976019  6.57727973  7.3438535\n",
      "  7.94278402  8.30325593  9.43304071 10.9316509  10.75500142]\n",
      "mean: 8.160844680641349 \n",
      "\n",
      "neg_mean_squared_error\n",
      "[168.298253   163.76384891  63.06531045  70.08198469  86.64548836\n",
      " 108.48019863 137.42932609 134.94660449 444.26516798 263.489125\n",
      " 269.91395483]\n",
      "mean: 173.6708420393369 \n",
      "\n",
      "neg_root_mean_squared_error\n",
      "[12.97298165 12.797025    7.94136704  8.37149835  9.30835584 10.41538279\n",
      " 11.72581288 11.61665203 21.07759872 16.23234811 16.42905825]\n",
      "mean: 12.626189151337748 \n",
      "\n"
     ]
    }
   ],
   "source": [
    "for scorer in scorers:\n",
    "    scores = -cross_val_score(regressor,feature_set[['max_temp', 'precip', 'day_of_week', \n",
    "                                                            'hour_of_the_day', 'month']], \n",
    "                          feature_set['amount'], scoring = scorer, cv=11)\n",
    "    final_values.append(scores.mean())\n",
    "    print(scorer)\n",
    "    print(scores)\n",
    "    print(\"mean:\", scores.mean(), \"\\n\")"
   ]
  },
  {
   "cell_type": "markdown",
   "id": "bb9800c0",
   "metadata": {},
   "source": [
    "Performs slightly better than with default value on all scorers."
   ]
  },
  {
   "cell_type": "markdown",
   "id": "2638210f",
   "metadata": {},
   "source": [
    "Final Evaluation Values:"
   ]
  },
  {
   "cell_type": "code",
   "execution_count": 24,
   "id": "14d7d15d",
   "metadata": {
    "scrolled": true
   },
   "outputs": [
    {
     "name": "stdout",
     "output_type": "stream",
     "text": [
      "R²: 0.7205\n",
      "MAE: 8.1608\n",
      "MSE: 173.6708\n",
      "RSME: 12.6262\n"
     ]
    }
   ],
   "source": [
    "print(\"R²:\", round(final_values[0], 4))\n",
    "print(\"MAE:\", round(final_values[1], 4))\n",
    "print(\"MSE:\", round(final_values[2], 4))\n",
    "print(\"RSME:\", round(final_values[3], 4))"
   ]
  },
  {
   "cell_type": "markdown",
   "id": "3e5d95ce",
   "metadata": {},
   "source": [
    "Try some predictions for new instances"
   ]
  },
  {
   "cell_type": "code",
   "execution_count": 27,
   "id": "662fdf1e",
   "metadata": {},
   "outputs": [
    {
     "name": "stdout",
     "output_type": "stream",
     "text": [
      "Predicted amount: [60.83636364]\n"
     ]
    }
   ],
   "source": [
    "# temp,precip,day of week, hour of the day, month\n",
    "Xnew = np.array([[28,0,4,20,7]]) #predict peak demand at 28deg c, no rain, thursday, 8p.m., june\n",
    "print(\"Predicted amount:\", regressor.predict(Xnew))"
   ]
  },
  {
   "cell_type": "code",
   "execution_count": 28,
   "id": "8cacf070",
   "metadata": {},
   "outputs": [
    {
     "name": "stdout",
     "output_type": "stream",
     "text": [
      "Predicted amount: [24.14285714]\n"
     ]
    }
   ],
   "source": [
    "Xnew = np.array([[15,0,4,20,1]]) #predict peak demand at 15deg c, no rain, frieday, 8p.m., january\n",
    "print(\"Predicted amount:\", regressor.predict(Xnew))"
   ]
  }
 ],
 "metadata": {
  "kernelspec": {
   "display_name": "Python 3",
   "language": "python",
   "name": "python3"
  },
  "language_info": {
   "codemirror_mode": {
    "name": "ipython",
    "version": 3
   },
   "file_extension": ".py",
   "mimetype": "text/x-python",
   "name": "python",
   "nbconvert_exporter": "python",
   "pygments_lexer": "ipython3",
   "version": "3.8.10"
  }
 },
 "nbformat": 4,
 "nbformat_minor": 5
}
