{
 "cells": [
  {
   "cell_type": "markdown",
   "metadata": {},
   "source": [
    "# Task 3: Predictive Analytics"
   ]
  },
  {
   "cell_type": "markdown",
   "metadata": {},
   "source": [
    "## Polynomial Regression"
   ]
  },
  {
   "cell_type": "markdown",
   "metadata": {},
   "source": [
    "## Import modules"
   ]
  },
  {
   "cell_type": "code",
   "execution_count": 2,
   "metadata": {},
   "outputs": [],
   "source": [
    "\n",
    "import pandas as pd\n",
    "import numpy as np\n",
    "import re\n",
    "import datetime as dt #for working with time objects\n",
    "\n",
    "import matplotlib as mpl\n",
    "import matplotlib.pyplot as plt\n",
    "import seaborn as sns\n",
    "\n",
    "# For working with regression\n",
    "import sklearn\n",
    "import warnings\n",
    "from sklearn.linear_model import LinearRegression\n",
    "from sklearn import linear_model\n",
    "\n",
    "# For evaluating regression algorithms\n",
    "from sklearn.metrics import mean_squared_error, mean_absolute_error, r2_score\n",
    "\n",
    "# For working with polynomial regression\n",
    "from sklearn.preprocessing import PolynomialFeatures\n",
    "\n",
    "from sklearn.model_selection import train_test_split \n",
    "\n"
   ]
  },
  {
   "cell_type": "markdown",
   "metadata": {},
   "source": [
    "### Read in feature_set"
   ]
  },
  {
   "cell_type": "code",
   "execution_count": 4,
   "metadata": {},
   "outputs": [],
   "source": [
    "feature_set = pd.read_pickle(\"feature_set.pkl\")"
   ]
  },
  {
   "cell_type": "code",
   "execution_count": 5,
   "metadata": {},
   "outputs": [
    {
     "data": {
      "text/html": [
       "<div>\n",
       "<style scoped>\n",
       "    .dataframe tbody tr th:only-of-type {\n",
       "        vertical-align: middle;\n",
       "    }\n",
       "\n",
       "    .dataframe tbody tr th {\n",
       "        vertical-align: top;\n",
       "    }\n",
       "\n",
       "    .dataframe thead th {\n",
       "        text-align: right;\n",
       "    }\n",
       "</style>\n",
       "<table border=\"1\" class=\"dataframe\">\n",
       "  <thead>\n",
       "    <tr style=\"text-align: right;\">\n",
       "      <th></th>\n",
       "      <th>max_temp</th>\n",
       "      <th>precip</th>\n",
       "      <th>amount</th>\n",
       "      <th>day_of_week</th>\n",
       "      <th>hour_of_the_day</th>\n",
       "      <th>month</th>\n",
       "    </tr>\n",
       "    <tr>\n",
       "      <th>hour_from_zero</th>\n",
       "      <th></th>\n",
       "      <th></th>\n",
       "      <th></th>\n",
       "      <th></th>\n",
       "      <th></th>\n",
       "      <th></th>\n",
       "    </tr>\n",
       "  </thead>\n",
       "  <tbody>\n",
       "    <tr>\n",
       "      <th>1</th>\n",
       "      <td>15.6</td>\n",
       "      <td>0</td>\n",
       "      <td>19</td>\n",
       "      <td>1</td>\n",
       "      <td>1</td>\n",
       "      <td>1</td>\n",
       "    </tr>\n",
       "    <tr>\n",
       "      <th>2</th>\n",
       "      <td>15.0</td>\n",
       "      <td>0</td>\n",
       "      <td>8</td>\n",
       "      <td>1</td>\n",
       "      <td>2</td>\n",
       "      <td>1</td>\n",
       "    </tr>\n",
       "    <tr>\n",
       "      <th>3</th>\n",
       "      <td>15.0</td>\n",
       "      <td>0</td>\n",
       "      <td>16</td>\n",
       "      <td>1</td>\n",
       "      <td>3</td>\n",
       "      <td>1</td>\n",
       "    </tr>\n",
       "  </tbody>\n",
       "</table>\n",
       "</div>"
      ],
      "text/plain": [
       "                max_temp  precip  amount  day_of_week  hour_of_the_day  month\n",
       "hour_from_zero                                                               \n",
       "1                   15.6       0      19            1                1      1\n",
       "2                   15.0       0       8            1                2      1\n",
       "3                   15.0       0      16            1                3      1"
      ]
     },
     "execution_count": 5,
     "metadata": {},
     "output_type": "execute_result"
    }
   ],
   "source": [
    "feature_set.head(3)"
   ]
  },
  {
   "cell_type": "markdown",
   "metadata": {},
   "source": [
    "### Split into training and test set"
   ]
  },
  {
   "cell_type": "code",
   "execution_count": 18,
   "metadata": {},
   "outputs": [
    {
     "name": "stdout",
     "output_type": "stream",
     "text": [
      "<class 'pandas.core.frame.DataFrame'>\n",
      "Int64Index: 8731 entries, 1 to 8759\n",
      "Data columns (total 5 columns):\n",
      " #   Column           Non-Null Count  Dtype  \n",
      "---  ------           --------------  -----  \n",
      " 0   max_temp         8731 non-null   float64\n",
      " 1   precip           8731 non-null   int32  \n",
      " 2   day_of_week      8731 non-null   int64  \n",
      " 3   hour_of_the_day  8731 non-null   int64  \n",
      " 4   month            8731 non-null   int64  \n",
      "dtypes: float64(1), int32(1), int64(3)\n",
      "memory usage: 375.2 KB\n"
     ]
    }
   ],
   "source": [
    "X = feature_set.drop(columns = [\"amount\"])\n",
    "y = feature_set[\"amount\"]\n",
    "\n",
    "X.info()"
   ]
  },
  {
   "cell_type": "code",
   "execution_count": 15,
   "metadata": {},
   "outputs": [],
   "source": [
    "# split the data with 70-30% split as above\n",
    "\n",
    "x_train, x_test, y_train, y_test = train_test_split(feature_set.drop(columns = [\"amount\"]), feature_set[\"amount\"], test_size=0.3,random_state=42)\n",
    "\n",
    "\n",
    "#x_train, x_test, y_train, y_test = train_test_split(feature_set.drop(columns = [\"amount\"]), feature_set[\"amount\"], test_size=0.3,random_state=42)\n",
    "\n",
    "y_train = pd.DataFrame(y_train)\n",
    "y_test = pd.DataFrame(y_test)\n"
   ]
  },
  {
   "cell_type": "code",
   "execution_count": 19,
   "metadata": {},
   "outputs": [
    {
     "data": {
      "image/png": "[encoded data removed]",
      "text/plain": [
       "<Figure size 576x432 with 1 Axes>"
      ]
     },
     "metadata": {
      "needs_background": "light"
     },
     "output_type": "display_data"
    }
   ],
   "source": [
    "plt.figure(figsize = (8,6))\n",
    "plt.scatter(x_train['hour_of_the_day'], y_train, marker='x', color=\"C0\")\n",
    "plt.scatter(x_test['hour_of_the_day'], y_test, marker='x', color=\"C2\")\n",
    "plt.xlabel(\"hour_of_the_day\")\n",
    "plt.ylabel(\"Demand\")\n",
    "plt.legend(['Training set', 'Holdout set'])\n",
    "plt.show()"
   ]
  },
  {
   "cell_type": "markdown",
   "metadata": {},
   "source": [
    "### Define multiple linear regression, fit polynomial to multiple regression"
   ]
  },
  {
   "cell_type": "code",
   "execution_count": 12,
   "metadata": {
    "scrolled": true
   },
   "outputs": [
    {
     "name": "stdout",
     "output_type": "stream",
     "text": [
      "<class 'pandas.core.frame.DataFrame'>\n",
      "Int64Index: 8731 entries, 1 to 8759\n",
      "Data columns (total 5 columns):\n",
      " #   Column           Non-Null Count  Dtype  \n",
      "---  ------           --------------  -----  \n",
      " 0   max_temp         8731 non-null   float64\n",
      " 1   precip           8731 non-null   int32  \n",
      " 2   day_of_week      8731 non-null   int64  \n",
      " 3   hour_of_the_day  8731 non-null   int64  \n",
      " 4   month            8731 non-null   int64  \n",
      "dtypes: float64(1), int32(1), int64(3)\n",
      "memory usage: 375.2 KB\n"
     ]
    }
   ],
   "source": [
    "X = feature_set.drop(columns = [\"amount\"])\n",
    "y = feature_set[\"amount\"]\n",
    "\n",
    "X.info()"
   ]
  },
  {
   "cell_type": "code",
   "execution_count": 20,
   "metadata": {},
   "outputs": [],
   "source": [
    "def plot_regression_poly_scikit(X,Y,d):\n",
    "    \n",
    "    # initialize PolynomialFeatures\n",
    "    poly_reg = PolynomialFeatures (degree = d)\n",
    "    \n",
    "    # Polynomial transformation\n",
    "    x_poly = poly_reg.fit_transform(X)\n",
    "    \n",
    "    # Fitting linear regression to polynomial features\n",
    "    lin_reg_Poly = LinearRegression()\n",
    "    lin_reg_Poly.fit(x_poly, Y)\n",
    "    model_pred = lin_reg_Poly.predict(x_poly)\n",
    "    \n",
    "    # Plotting the regression line and the data (we have to transform the inputs as well!)\n",
    "    x_fit = np.arange(0,24 ,1)[:, np.newaxis]\n",
    "    y_pred = lin_reg_Poly.predict(poly_reg.fit_transform(x_fit.reshape(-1,1)))\n",
    "    \n",
    "    plt.figure(figsize = (8,6))\n",
    "    plt.scatter(X,Y,marker=\"x\", c='C2')\n",
    "    ylim = plt.ylim()\n",
    "    plt.plot(x_fit,y_pred, c='C1')\n",
    "    plt.xlabel(\"hour\")\n",
    "    plt.ylabel(\"amount\")\n",
    "    plt.xlim([0,24]) # leave some space before and after limits\n",
    "    plt.ylim(ylim)\n",
    "    print ('The R^2 for the curve (degree = {}) is:'.format(d),r2_score(Y, model_pred))\n",
    "    #print(lin_reg_Poly.coef_)"
   ]
  },
  {
   "cell_type": "code",
   "execution_count": 21,
   "metadata": {},
   "outputs": [
    {
     "name": "stdout",
     "output_type": "stream",
     "text": [
      "The R^2 for the curve (degree = 12) is: 0.6503725084622495\n"
     ]
    },
    {
     "data": {
      "image/png": "[encoded data removed]",
      "text/plain": [
       "<Figure size 576x432 with 1 Axes>"
      ]
     },
     "metadata": {
      "needs_background": "light"
     },
     "output_type": "display_data"
    }
   ],
   "source": [
    "xt = pd.DataFrame(x_train['hour_of_the_day'])\n",
    "plot_regression_poly_scikit(X = xt, Y = y_train, d = 12)"
   ]
  },
  {
   "cell_type": "code",
   "execution_count": 22,
   "metadata": {},
   "outputs": [
    {
     "data": {
      "text/plain": [
       "LinearRegression()"
      ]
     },
     "execution_count": 22,
     "metadata": {},
     "output_type": "execute_result"
    }
   ],
   "source": [
    "# initialize linear model\n",
    "linear_model = LinearRegression(fit_intercept=True, normalize=False)\n",
    "linear_model"
   ]
  },
  {
   "cell_type": "code",
   "execution_count": 23,
   "metadata": {},
   "outputs": [
    {
     "name": "stdout",
     "output_type": "stream",
     "text": [
      "[  0.05733234 -10.27157632  -0.87370408   1.99827714   0.92392378] 3.8087037178612384\n"
     ]
    }
   ],
   "source": [
    "# train model\n",
    "linear_model.fit(X, y)\n",
    "print(linear_model.coef_, linear_model.intercept_)"
   ]
  },
  {
   "cell_type": "code",
   "execution_count": 24,
   "metadata": {},
   "outputs": [],
   "source": [
    "def plot_regression_poly_scikit(X,Y,d):\n",
    "    \n",
    "    # initialize PolynomialFeatures\n",
    "    poly_reg = PolynomialFeatures (degree = d)\n",
    "    \n",
    "    # Polynomial transformation\n",
    "    x_poly = poly_reg.fit_transform(X)\n",
    "    \n",
    "    # Fitting linear regression to polynomial features\n",
    "    lin_reg_Poly = LinearRegression()\n",
    "    lin_reg_Poly.fit(x_poly, Y)\n",
    "    model_pred = lin_reg_Poly.predict(x_poly)\n",
    "    \n",
    "    # Plotting the regression line and the data (we have to transform the inputs as well!)\n",
    "    x_fit = np.arange(0,24 ,1)[:, np.newaxis]\n",
    "    y_pred = lin_reg_Poly.predict(poly_reg.fit_transform(x_fit.reshape(-1,1)))\n",
    "    \n",
    "    plt.figure(figsize = (8,6))\n",
    "    plt.scatter(X,Y,marker=\"x\", c='C2')\n",
    "    ylim = plt.ylim()\n",
    "    plt.plot(x_fit,y_pred, c='C1')\n",
    "    plt.xlabel(\"hour\")\n",
    "    plt.ylabel(\"amount\")\n",
    "    plt.xlim([0,24]) # leave some space before and after limits\n",
    "    plt.ylim(ylim)\n",
    "    print ('The R^2 for the curve (degree = {}) is:'.format(d),r2_score(Y, model_pred))\n",
    "    #print(lin_reg_Poly.coef_)"
   ]
  },
  {
   "cell_type": "code",
   "execution_count": 25,
   "metadata": {},
   "outputs": [
    {
     "data": {
      "text/plain": [
       "LinearRegression()"
      ]
     },
     "execution_count": 25,
     "metadata": {},
     "output_type": "execute_result"
    }
   ],
   "source": [
    "# Fitting Polynomial Regression to Multiple Linear Regression\n",
    "\n",
    "from sklearn.preprocessing import PolynomialFeatures\n",
    "poly_reg = PolynomialFeatures(degree=2)\n",
    "X_poly = poly_reg.fit_transform(X)\n",
    "pol_reg = LinearRegression()\n",
    "pol_reg.fit(X_poly, y)\n"
   ]
  },
  {
   "cell_type": "code",
   "execution_count": 26,
   "metadata": {},
   "outputs": [
    {
     "name": "stdout",
     "output_type": "stream",
     "text": [
      "[ 0.00000000e+00 -1.79369031e-01 -6.15365331e+00  2.64217649e+00\n",
      "  8.95585087e+00  4.85574470e-01  7.03584164e-02  9.61851463e-01\n",
      "  3.32496466e-03 -7.26769500e-02 -2.41260885e-02 -6.15365331e+00\n",
      "  4.62387049e-01 -7.19989951e-01 -4.80641423e-01 -4.57354873e-01\n",
      " -3.45194721e-02 -8.02714532e-02 -2.67498427e-01  7.48855559e-02\n",
      " -2.84819626e-02] -31.948224922848176\n"
     ]
    }
   ],
   "source": [
    "print(pol_reg.coef_, pol_reg.intercept_)"
   ]
  },
  {
   "cell_type": "code",
   "execution_count": 27,
   "metadata": {},
   "outputs": [],
   "source": [
    "def ls_poly(X, y, d):\n",
    "    \n",
    "    # Create polynomial features\n",
    "    min_X, max_X = X.min(), X.max()\n",
    "    xs = 2*(X - min_X)/(max_X - min_X)-1  # standardize to range [-1,1]\n",
    "    X = np.array([xs**i for i in range(d,-1,-1)]).T\n",
    "    \n",
    "    # Implement polynomial regression using least squares (we use the nomal equations as derived in the lecture)\n",
    "    theta = np.linalg.solve(X.T @ X, X.T @ y)\n",
    "    \n",
    "    return theta"
   ]
  },
  {
   "cell_type": "code",
   "execution_count": 28,
   "metadata": {},
   "outputs": [],
   "source": [
    "# Splitting data\n",
    "\n",
    "#define X and y vectors\n",
    "xa = feature_set[\"hour_of_the_day\"]\n",
    "ya = feature_set[\"amount\"]\n",
    "\n",
    "# train-test split\n",
    "X_train, X_test, y_train, y_test = train_test_split(xa, ya, test_size=0.3,random_state=42)"
   ]
  },
  {
   "cell_type": "code",
   "execution_count": 29,
   "metadata": {},
   "outputs": [
    {
     "data": {
      "text/plain": [
       "Text(0, 0.5, 'Mean squared error')"
      ]
     },
     "execution_count": 29,
     "metadata": {},
     "output_type": "execute_result"
    },
    {
     "data": {
      "image/png": "[encoded data removed]",
      "text/plain": [
       "<Figure size 576x432 with 1 Axes>"
      ]
     },
     "metadata": {
      "needs_background": "light"
     },
     "output_type": "display_data"
    }
   ],
   "source": [
    "# Visualizing test and train set\n",
    "\n",
    "# define loop \n",
    "err_train = []\n",
    "err_test = []\n",
    "for deg in range(50): # we want to loop across 0-50 degrees\n",
    "    \n",
    "    # create poly features\n",
    "    poly_feat = PolynomialFeatures(degree=deg) #initialize\n",
    "    \n",
    "    X_train_poly=poly_feat.fit_transform(X_train.values.reshape((-1,1)))\n",
    "    X_test_poly=poly_feat.fit_transform(X_test.values.reshape((-1,1)))\n",
    "    \n",
    "    # initialize and fit model\n",
    "    lin_mod_poly = LinearRegression()\n",
    "    lin_mod_poly.fit(X_train_poly,y_train)\n",
    "    \n",
    "    # compute errors and append to err_train and err_cv\n",
    "    err_train.append(mean_squared_error(y_train,lin_mod_poly.predict(X_train_poly)))\n",
    "    err_test.append(mean_squared_error(y_test,lin_mod_poly.predict(X_test_poly)))\n",
    "\n",
    "# plot results\n",
    "plt.figure(figsize = (8,6))    \n",
    "plt.semilogy(range(50), err_train, range(50), err_test)\n",
    "plt.legend([\"Training\", \"Validation\"])\n",
    "plt.xlabel(\"Polynomial degree\")\n",
    "plt.ylabel(\"Mean squared error\")"
   ]
  },
  {
   "cell_type": "code",
   "execution_count": 30,
   "metadata": {},
   "outputs": [],
   "source": [
    "# Split data into train, test and holdout set\n",
    "\n",
    "# 70-30 split\n",
    "X_train, X_test, y_train, y_test = train_test_split(xa, ya, test_size=0.3,random_state=34 )\n",
    "\n",
    "# Split X_train to achive 50-20-30 split\n",
    "X_train, X_hold, y_train, y_hold = train_test_split(X_train, y_train, test_size=(0.2/0.7),random_state=34 )"
   ]
  },
  {
   "cell_type": "code",
   "execution_count": 31,
   "metadata": {},
   "outputs": [
    {
     "name": "stdout",
     "output_type": "stream",
     "text": [
      "4364 1747 2620\n"
     ]
    }
   ],
   "source": [
    "print(len(X_train),len(X_hold),len(X_test))"
   ]
  },
  {
   "cell_type": "code",
   "execution_count": 32,
   "metadata": {},
   "outputs": [
    {
     "data": {
      "text/plain": [
       "Text(0, 0.5, 'Mean squared error')"
      ]
     },
     "execution_count": 32,
     "metadata": {},
     "output_type": "execute_result"
    },
    {
     "data": {
      "image/png": "[encoded data removed]",
      "text/plain": [
       "<Figure size 432x288 with 1 Axes>"
      ]
     },
     "metadata": {
      "needs_background": "light"
     },
     "output_type": "display_data"
    }
   ],
   "source": [
    "#Visualizing train, test and holdout sets\n",
    "\n",
    "min_x_train, max_x_train = X_train.min(), X_train.max()\n",
    "x_train = 2*(X_train - min_x_train)/(max_x_train - min_x_train) - 1\n",
    "x_hold = 2*(X_hold - min_x_train)/(max_x_train - min_x_train) - 1\n",
    "x_test = 2*(X_test - min_x_train)/(max_x_train - min_x_train) - 1\n",
    "\n",
    "def poly_feat(x, degree):\n",
    "    return np.array([x**i for i in range(degree,-1,-1)]).T\n",
    "    \n",
    "\n",
    "err_train = []\n",
    "err_hold = []\n",
    "err_test = []\n",
    "for i in range(15):\n",
    "    theta = ls_poly(x_train, y_train, i)\n",
    "    err_train.append(((poly_feat(x_train,i) @ theta - y_train)**2).mean())\n",
    "    err_hold.append(((poly_feat(x_hold,i) @ theta - y_hold)**2).mean())\n",
    "    err_test.append(((poly_feat(x_test,i) @ theta - y_test)**2).mean())\n",
    "plt.semilogy(range(15), err_train, range(15), err_hold,range(15), err_test)\n",
    "plt.legend([\"Training\", \"Validation\", \"Test\"])\n",
    "plt.xlabel(\"Polynomial degree\")\n",
    "plt.ylabel(\"Mean squared error\")"
   ]
  },
  {
   "cell_type": "code",
   "execution_count": 35,
   "metadata": {},
   "outputs": [],
   "source": [
    "# Prediction \n",
    "y_true = feature_set[\"amount\"]\n",
    "y_pred = pol_reg.predict(poly_reg.fit_transform(X))"
   ]
  },
  {
   "cell_type": "markdown",
   "metadata": {},
   "source": [
    "# Evaluation of algorithm"
   ]
  },
  {
   "cell_type": "code",
   "execution_count": 36,
   "metadata": {},
   "outputs": [
    {
     "name": "stdout",
     "output_type": "stream",
     "text": [
      "Mean Squared Error: 314.09993102678453 (Bike rentings)^2\n",
      "Root Mean Squared Error: 17.722864639408172 Bike rentings\n",
      "Demand Mean: 30.862215095636238\n"
     ]
    }
   ],
   "source": [
    "#(Root) Mean Squared Error ((R)MSE)\n",
    "print(\"Mean Squared Error:\",mean_squared_error(y_pred, y_true),\"(Bike rentings)^2\")\n",
    "print(\"Root Mean Squared Error:\",mean_squared_error(y_pred, y_true)**0.5,\"Bike rentings\")\n",
    "print(\"Demand Mean:\",feature_set[\"amount\"].mean())"
   ]
  },
  {
   "cell_type": "code",
   "execution_count": 37,
   "metadata": {},
   "outputs": [
    {
     "name": "stdout",
     "output_type": "stream",
     "text": [
      "Mean Absolute Error: 13.767497148460926 Bike rentings\n"
     ]
    }
   ],
   "source": [
    "#Mean Absolute Error (MAE)\n",
    "print(\"Mean Absolute Error:\",mean_absolute_error(y_pred, y_true),\"Bike rentings\")"
   ]
  },
  {
   "cell_type": "code",
   "execution_count": 38,
   "metadata": {},
   "outputs": [
    {
     "name": "stdout",
     "output_type": "stream",
     "text": [
      "Coefficient of determination: 0.0547020436750677\n"
     ]
    }
   ],
   "source": [
    "#Coefficient of Determination ( 𝑅2 )\n",
    "print(\"Coefficient of determination:\",r2_score(y_pred, y_true))"
   ]
  },
  {
   "cell_type": "markdown",
   "metadata": {},
   "source": [
    "### Predictions"
   ]
  },
  {
   "cell_type": "code",
   "execution_count": 39,
   "metadata": {},
   "outputs": [
    {
     "name": "stdout",
     "output_type": "stream",
     "text": [
      "Exact prediction: 55.98193071256127\n",
      "We probably should supply a minimum of 56 Bikes, for our inserted parameters.\n"
     ]
    }
   ],
   "source": [
    "# temp,precip,day of week, hour of the day, month\n",
    "\n",
    "Xnew = np.array([[28,0,4,20,7]]) #predict peak demand at 28deg c, no rain, frieday, 8p.m., july\n",
    "print(\"Exact prediction:\", pol_reg.predict(poly_reg.fit_transform(Xnew))[0])\n",
    "print(\"We probably should supply a minimum of\",np.int_(pol_reg.predict(poly_reg.fit_transform(Xnew)))[0]+1, \"Bikes, for our inserted parameters.\")\n"
   ]
  },
  {
   "cell_type": "code",
   "execution_count": 41,
   "metadata": {},
   "outputs": [
    {
     "name": "stdout",
     "output_type": "stream",
     "text": [
      "Exact prediction: 72.18306560082533\n",
      "We probably should supply a minimum of 73 Bikes, for our inserted parameters.\n"
     ]
    }
   ],
   "source": [
    "# temp,precip,day of week, hour of the day, month\n",
    "\n",
    "Xnew = np.array([[30,0,4,13,6]]) #predict peak demand at 30deg c, no rain, frieday, 1p.m., june\n",
    "print(\"Exact prediction:\", pol_reg.predict(poly_reg.fit_transform(Xnew))[0])\n",
    "print(\"We probably should supply a minimum of\",np.int_(pol_reg.predict(poly_reg.fit_transform(Xnew)))[0]+1, \"Bikes, for our inserted parameters.\")\n"
   ]
  }
 ],
 "metadata": {
  "kernelspec": {
   "display_name": "Python 3",
   "language": "python",
   "name": "python3"
  },
  "language_info": {
   "codemirror_mode": {
    "name": "ipython",
    "version": 3
   },
   "file_extension": ".py",
   "mimetype": "text/x-python",
   "name": "python",
   "nbconvert_exporter": "python",
   "pygments_lexer": "ipython3",
   "version": "3.8.10"
  }
 },
 "nbformat": 4,
 "nbformat_minor": 4
}
