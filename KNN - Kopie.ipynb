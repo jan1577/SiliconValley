{
 "cells": [
  {
   "cell_type": "markdown",
   "metadata": {},
   "source": [
    "# Task 3: Predictive Analytics"
   ]
  },
  {
   "cell_type": "markdown",
   "metadata": {},
   "source": [
    "## K Nearest Neighbour"
   ]
  },
  {
   "cell_type": "markdown",
   "metadata": {},
   "source": [
    "### Imports:"
   ]
  },
  {
   "cell_type": "code",
   "execution_count": 1,
   "metadata": {},
   "outputs": [],
   "source": [
    "import pandas as pd\n",
    "import numpy as np\n",
    "import re\n",
    "import datetime as dt #for working with times objects\n",
    "\n",
    "import matplotlib as mpl\n",
    "import matplotlib.pyplot as plt\n",
    "import seaborn as sns\n",
    "\n",
    "import sklearn\n",
    "import warnings\n",
    "from sklearn.linear_model import LinearRegression\n",
    "\n",
    "from sklearn.metrics import mean_squared_error, mean_absolute_error, r2_score\n",
    "from sklearn.model_selection import train_test_split\n",
    "\n",
    "from sklearn.linear_model import LinearRegression\n",
    "\n",
    "from sklearn.preprocessing import PolynomialFeatures\n",
    "\n",
    "from sklearn.linear_model import Ridge\n",
    "\n",
    "import datetime"
   ]
  },
  {
   "cell_type": "markdown",
   "metadata": {},
   "source": [
    "#### Reading in the feature_set:"
   ]
  },
  {
   "cell_type": "code",
   "execution_count": 2,
   "metadata": {
    "scrolled": false
   },
   "outputs": [
    {
     "data": {
      "text/html": [
       "<div>\n",
       "<style scoped>\n",
       "    .dataframe tbody tr th:only-of-type {\n",
       "        vertical-align: middle;\n",
       "    }\n",
       "\n",
       "    .dataframe tbody tr th {\n",
       "        vertical-align: top;\n",
       "    }\n",
       "\n",
       "    .dataframe thead th {\n",
       "        text-align: right;\n",
       "    }\n",
       "</style>\n",
       "<table border=\"1\" class=\"dataframe\">\n",
       "  <thead>\n",
       "    <tr style=\"text-align: right;\">\n",
       "      <th></th>\n",
       "      <th>max_temp</th>\n",
       "      <th>precip</th>\n",
       "      <th>amount</th>\n",
       "      <th>day_of_week</th>\n",
       "      <th>hour_of_the_day</th>\n",
       "      <th>month</th>\n",
       "    </tr>\n",
       "    <tr>\n",
       "      <th>hour_from_zero</th>\n",
       "      <th></th>\n",
       "      <th></th>\n",
       "      <th></th>\n",
       "      <th></th>\n",
       "      <th></th>\n",
       "      <th></th>\n",
       "    </tr>\n",
       "  </thead>\n",
       "  <tbody>\n",
       "    <tr>\n",
       "      <th>1</th>\n",
       "      <td>15.6</td>\n",
       "      <td>0</td>\n",
       "      <td>19</td>\n",
       "      <td>1</td>\n",
       "      <td>1</td>\n",
       "      <td>1</td>\n",
       "    </tr>\n",
       "    <tr>\n",
       "      <th>2</th>\n",
       "      <td>15.0</td>\n",
       "      <td>0</td>\n",
       "      <td>8</td>\n",
       "      <td>1</td>\n",
       "      <td>2</td>\n",
       "      <td>1</td>\n",
       "    </tr>\n",
       "    <tr>\n",
       "      <th>3</th>\n",
       "      <td>15.0</td>\n",
       "      <td>0</td>\n",
       "      <td>16</td>\n",
       "      <td>1</td>\n",
       "      <td>3</td>\n",
       "      <td>1</td>\n",
       "    </tr>\n",
       "    <tr>\n",
       "      <th>4</th>\n",
       "      <td>13.9</td>\n",
       "      <td>0</td>\n",
       "      <td>2</td>\n",
       "      <td>1</td>\n",
       "      <td>4</td>\n",
       "      <td>1</td>\n",
       "    </tr>\n",
       "    <tr>\n",
       "      <th>5</th>\n",
       "      <td>12.2</td>\n",
       "      <td>0</td>\n",
       "      <td>0</td>\n",
       "      <td>1</td>\n",
       "      <td>5</td>\n",
       "      <td>1</td>\n",
       "    </tr>\n",
       "    <tr>\n",
       "      <th>...</th>\n",
       "      <td>...</td>\n",
       "      <td>...</td>\n",
       "      <td>...</td>\n",
       "      <td>...</td>\n",
       "      <td>...</td>\n",
       "      <td>...</td>\n",
       "    </tr>\n",
       "    <tr>\n",
       "      <th>8755</th>\n",
       "      <td>20.0</td>\n",
       "      <td>0</td>\n",
       "      <td>46</td>\n",
       "      <td>1</td>\n",
       "      <td>19</td>\n",
       "      <td>12</td>\n",
       "    </tr>\n",
       "    <tr>\n",
       "      <th>8756</th>\n",
       "      <td>20.6</td>\n",
       "      <td>0</td>\n",
       "      <td>37</td>\n",
       "      <td>1</td>\n",
       "      <td>20</td>\n",
       "      <td>12</td>\n",
       "    </tr>\n",
       "    <tr>\n",
       "      <th>8757</th>\n",
       "      <td>21.1</td>\n",
       "      <td>0</td>\n",
       "      <td>41</td>\n",
       "      <td>1</td>\n",
       "      <td>21</td>\n",
       "      <td>12</td>\n",
       "    </tr>\n",
       "    <tr>\n",
       "      <th>8758</th>\n",
       "      <td>21.7</td>\n",
       "      <td>0</td>\n",
       "      <td>22</td>\n",
       "      <td>1</td>\n",
       "      <td>22</td>\n",
       "      <td>12</td>\n",
       "    </tr>\n",
       "    <tr>\n",
       "      <th>8759</th>\n",
       "      <td>22.8</td>\n",
       "      <td>0</td>\n",
       "      <td>20</td>\n",
       "      <td>1</td>\n",
       "      <td>23</td>\n",
       "      <td>12</td>\n",
       "    </tr>\n",
       "  </tbody>\n",
       "</table>\n",
       "<p>8731 rows × 6 columns</p>\n",
       "</div>"
      ],
      "text/plain": [
       "                max_temp  precip  amount  day_of_week  hour_of_the_day  month\n",
       "hour_from_zero                                                               \n",
       "1                   15.6       0      19            1                1      1\n",
       "2                   15.0       0       8            1                2      1\n",
       "3                   15.0       0      16            1                3      1\n",
       "4                   13.9       0       2            1                4      1\n",
       "5                   12.2       0       0            1                5      1\n",
       "...                  ...     ...     ...          ...              ...    ...\n",
       "8755                20.0       0      46            1               19     12\n",
       "8756                20.6       0      37            1               20     12\n",
       "8757                21.1       0      41            1               21     12\n",
       "8758                21.7       0      22            1               22     12\n",
       "8759                22.8       0      20            1               23     12\n",
       "\n",
       "[8731 rows x 6 columns]"
      ]
     },
     "execution_count": 2,
     "metadata": {},
     "output_type": "execute_result"
    }
   ],
   "source": [
    "feature_set = pd.read_pickle(\"feature_set.pkl\")\n",
    "feature_set"
   ]
  },
  {
   "cell_type": "markdown",
   "metadata": {},
   "source": [
    "### Splitting it into training and test set:"
   ]
  },
  {
   "cell_type": "code",
   "execution_count": 3,
   "metadata": {},
   "outputs": [],
   "source": [
    "# split the data with 70-30% split as above\n",
    "\n",
    "x_train, x_test, y_train, y_test = train_test_split(feature_set.drop(columns = [\"amount\"]), feature_set[\"amount\"], test_size=0.3,random_state=42)\n",
    "\n",
    "\n",
    "#x_train, x_test, y_train, y_test = train_test_split(feature_set.drop(columns = [\"amount\"]), feature_set[\"amount\"], test_size=0.3,random_state=42)\n",
    "\n",
    "y_train = pd.DataFrame(y_train)\n",
    "y_test = pd.DataFrame(y_test)\n"
   ]
  },
  {
   "cell_type": "code",
   "execution_count": 4,
   "metadata": {},
   "outputs": [
    {
     "data": {
      "image/png": "[encoded data removed]",
      "text/plain": [
       "<Figure size 576x432 with 1 Axes>"
      ]
     },
     "metadata": {
      "needs_background": "light"
     },
     "output_type": "display_data"
    }
   ],
   "source": [
    "plt.figure(figsize = (8,6))\n",
    "plt.scatter(x_train['hour_of_the_day'], y_train, marker='x', color=\"C0\")\n",
    "plt.scatter(x_test['hour_of_the_day'], y_test, marker='x', color=\"C2\")\n",
    "plt.xlabel(\"hour_of_the_day\")\n",
    "plt.ylabel(\"Demand\")\n",
    "plt.legend(['Training set', 'Holdout set'])\n",
    "plt.show()"
   ]
  },
  {
   "cell_type": "code",
   "execution_count": 5,
   "metadata": {},
   "outputs": [],
   "source": [
    "# plt.figure(figsize = (8,6))\n",
    "\n",
    "# sns.scatterplot(x=feature_set[\"hour_of_the_day\"], y=feature_set[\"amount\"], \n",
    "#                 hue=(feature_set[\"max_temp\"].apply(lambda x: 1 if x>17 else 0)))\n",
    "\n",
    "# plt.show()"
   ]
  },
  {
   "cell_type": "code",
   "execution_count": null,
   "metadata": {},
   "outputs": [],
   "source": []
  },
  {
   "cell_type": "code",
   "execution_count": null,
   "metadata": {},
   "outputs": [],
   "source": []
  },
  {
   "cell_type": "code",
   "execution_count": 6,
   "metadata": {},
   "outputs": [],
   "source": [
    "def plot_regression_poly_scikit(X,Y,d):\n",
    "    \n",
    "    # initialize PolynomialFeatures\n",
    "    poly_reg = PolynomialFeatures (degree = d)\n",
    "    \n",
    "    # Polynomial transformation\n",
    "    x_poly = poly_reg.fit_transform(X)\n",
    "    \n",
    "    # Fitting linear regression to polynomial features\n",
    "    lin_reg_Poly = LinearRegression()\n",
    "    lin_reg_Poly.fit(x_poly, Y)\n",
    "    model_pred = lin_reg_Poly.predict(x_poly)\n",
    "    \n",
    "    # Plotting the regression line and the data (we have to transform the inputs as well!)\n",
    "    x_fit = np.arange(0,24 ,1)[:, np.newaxis]\n",
    "    y_pred = lin_reg_Poly.predict(poly_reg.fit_transform(x_fit.reshape(-1,1)))\n",
    "    \n",
    "    plt.figure(figsize = (8,6))\n",
    "    plt.scatter(X,Y,marker=\"x\", c='C2')\n",
    "    ylim = plt.ylim()\n",
    "    plt.plot(x_fit,y_pred, c='C1')\n",
    "    plt.xlabel(\"hour\")\n",
    "    plt.ylabel(\"amount\")\n",
    "    plt.xlim([0,24]) # leave some space before and after limits\n",
    "    plt.ylim(ylim)\n",
    "    print ('The R^2 for the curve (degree = {}) is:'.format(d),r2_score(Y, model_pred))\n",
    "    #print(lin_reg_Poly.coef_)"
   ]
  },
  {
   "cell_type": "code",
   "execution_count": 7,
   "metadata": {
    "scrolled": false
   },
   "outputs": [
    {
     "name": "stdout",
     "output_type": "stream",
     "text": [
      "The R^2 for the curve (degree = 12) is: 0.6503683792866348\n"
     ]
    },
    {
     "data": {
      "image/png": "[encoded data removed]",
      "text/plain": [
       "<Figure size 576x432 with 1 Axes>"
      ]
     },
     "metadata": {
      "needs_background": "light"
     },
     "output_type": "display_data"
    }
   ],
   "source": [
    "xt = pd.DataFrame(x_train['hour_of_the_day'])\n",
    "plot_regression_poly_scikit(X = xt, Y = y_train, d = 12)"
   ]
  },
  {
   "cell_type": "code",
   "execution_count": null,
   "metadata": {},
   "outputs": [],
   "source": []
  },
  {
   "cell_type": "code",
   "execution_count": null,
   "metadata": {},
   "outputs": [],
   "source": []
  },
  {
   "cell_type": "code",
   "execution_count": null,
   "metadata": {},
   "outputs": [],
   "source": []
  },
  {
   "cell_type": "code",
   "execution_count": null,
   "metadata": {},
   "outputs": [],
   "source": []
  },
  {
   "cell_type": "code",
   "execution_count": null,
   "metadata": {},
   "outputs": [],
   "source": []
  },
  {
   "cell_type": "code",
   "execution_count": null,
   "metadata": {},
   "outputs": [],
   "source": []
  },
  {
   "cell_type": "code",
   "execution_count": null,
   "metadata": {},
   "outputs": [],
   "source": [
    "# initialize model\n",
    "linear_model = LinearRegression(fit_intercept=True, normalize=False)\n",
    "linear_model"
   ]
  },
  {
   "cell_type": "code",
   "execution_count": 10,
   "metadata": {},
   "outputs": [
    {
     "ename": "ValueError",
     "evalue": "matmul: Input operand 1 has a mismatch in its core dimension 0, with gufunc signature (n?,k),(k,m?)->(n?,m?) (size 6188 is different from 13)",
     "output_type": "error",
     "traceback": [
      "\u001b[1;31m---------------------------------------------------------------------------\u001b[0m",
      "\u001b[1;31mValueError\u001b[0m                                Traceback (most recent call last)",
      "\u001b[1;32m<ipython-input-10-ae302d6f3ae5>\u001b[0m in \u001b[0;36m<module>\u001b[1;34m\u001b[0m\n\u001b[0;32m     17\u001b[0m \u001b[1;31m# Plotting the regression line and the data (we have to transform the inputs as well!)\u001b[0m\u001b[1;33m\u001b[0m\u001b[1;33m\u001b[0m\u001b[1;33m\u001b[0m\u001b[0m\n\u001b[0;32m     18\u001b[0m \u001b[0mx_fit\u001b[0m \u001b[1;33m=\u001b[0m \u001b[0mnp\u001b[0m\u001b[1;33m.\u001b[0m\u001b[0marange\u001b[0m\u001b[1;33m(\u001b[0m\u001b[1;36m0\u001b[0m\u001b[1;33m,\u001b[0m\u001b[1;36m24\u001b[0m \u001b[1;33m,\u001b[0m\u001b[1;36m1\u001b[0m\u001b[1;33m)\u001b[0m\u001b[1;33m[\u001b[0m\u001b[1;33m:\u001b[0m\u001b[1;33m,\u001b[0m \u001b[0mnp\u001b[0m\u001b[1;33m.\u001b[0m\u001b[0mnewaxis\u001b[0m\u001b[1;33m]\u001b[0m\u001b[1;33m\u001b[0m\u001b[1;33m\u001b[0m\u001b[0m\n\u001b[1;32m---> 19\u001b[1;33m \u001b[0my_pred\u001b[0m \u001b[1;33m=\u001b[0m \u001b[0mlin_reg_Poly\u001b[0m\u001b[1;33m.\u001b[0m\u001b[0mpredict\u001b[0m\u001b[1;33m(\u001b[0m\u001b[0mpoly_reg\u001b[0m\u001b[1;33m.\u001b[0m\u001b[0mfit_transform\u001b[0m\u001b[1;33m(\u001b[0m\u001b[0mx_fit\u001b[0m\u001b[1;33m)\u001b[0m\u001b[1;33m)\u001b[0m\u001b[1;33m\u001b[0m\u001b[1;33m\u001b[0m\u001b[0m\n\u001b[0m\u001b[0;32m     20\u001b[0m \u001b[1;33m\u001b[0m\u001b[0m\n\u001b[0;32m     21\u001b[0m \u001b[0mplt\u001b[0m\u001b[1;33m.\u001b[0m\u001b[0mfigure\u001b[0m\u001b[1;33m(\u001b[0m\u001b[0mfigsize\u001b[0m \u001b[1;33m=\u001b[0m \u001b[1;33m(\u001b[0m\u001b[1;36m8\u001b[0m\u001b[1;33m,\u001b[0m\u001b[1;36m6\u001b[0m\u001b[1;33m)\u001b[0m\u001b[1;33m)\u001b[0m\u001b[1;33m\u001b[0m\u001b[1;33m\u001b[0m\u001b[0m\n",
      "\u001b[1;32m~\\anaconda3\\lib\\site-packages\\sklearn\\linear_model\\_base.py\u001b[0m in \u001b[0;36mpredict\u001b[1;34m(self, X)\u001b[0m\n\u001b[0;32m    234\u001b[0m             \u001b[0mReturns\u001b[0m \u001b[0mpredicted\u001b[0m \u001b[0mvalues\u001b[0m\u001b[1;33m.\u001b[0m\u001b[1;33m\u001b[0m\u001b[1;33m\u001b[0m\u001b[0m\n\u001b[0;32m    235\u001b[0m         \"\"\"\n\u001b[1;32m--> 236\u001b[1;33m         \u001b[1;32mreturn\u001b[0m \u001b[0mself\u001b[0m\u001b[1;33m.\u001b[0m\u001b[0m_decision_function\u001b[0m\u001b[1;33m(\u001b[0m\u001b[0mX\u001b[0m\u001b[1;33m)\u001b[0m\u001b[1;33m\u001b[0m\u001b[1;33m\u001b[0m\u001b[0m\n\u001b[0m\u001b[0;32m    237\u001b[0m \u001b[1;33m\u001b[0m\u001b[0m\n\u001b[0;32m    238\u001b[0m     \u001b[0m_preprocess_data\u001b[0m \u001b[1;33m=\u001b[0m \u001b[0mstaticmethod\u001b[0m\u001b[1;33m(\u001b[0m\u001b[0m_preprocess_data\u001b[0m\u001b[1;33m)\u001b[0m\u001b[1;33m\u001b[0m\u001b[1;33m\u001b[0m\u001b[0m\n",
      "\u001b[1;32m~\\anaconda3\\lib\\site-packages\\sklearn\\linear_model\\_base.py\u001b[0m in \u001b[0;36m_decision_function\u001b[1;34m(self, X)\u001b[0m\n\u001b[0;32m    217\u001b[0m \u001b[1;33m\u001b[0m\u001b[0m\n\u001b[0;32m    218\u001b[0m         \u001b[0mX\u001b[0m \u001b[1;33m=\u001b[0m \u001b[0mcheck_array\u001b[0m\u001b[1;33m(\u001b[0m\u001b[0mX\u001b[0m\u001b[1;33m,\u001b[0m \u001b[0maccept_sparse\u001b[0m\u001b[1;33m=\u001b[0m\u001b[1;33m[\u001b[0m\u001b[1;34m'csr'\u001b[0m\u001b[1;33m,\u001b[0m \u001b[1;34m'csc'\u001b[0m\u001b[1;33m,\u001b[0m \u001b[1;34m'coo'\u001b[0m\u001b[1;33m]\u001b[0m\u001b[1;33m)\u001b[0m\u001b[1;33m\u001b[0m\u001b[1;33m\u001b[0m\u001b[0m\n\u001b[1;32m--> 219\u001b[1;33m         return safe_sparse_dot(X, self.coef_.T,\n\u001b[0m\u001b[0;32m    220\u001b[0m                                dense_output=True) + self.intercept_\n\u001b[0;32m    221\u001b[0m \u001b[1;33m\u001b[0m\u001b[0m\n",
      "\u001b[1;32m~\\anaconda3\\lib\\site-packages\\sklearn\\utils\\validation.py\u001b[0m in \u001b[0;36minner_f\u001b[1;34m(*args, **kwargs)\u001b[0m\n\u001b[0;32m     70\u001b[0m                           FutureWarning)\n\u001b[0;32m     71\u001b[0m         \u001b[0mkwargs\u001b[0m\u001b[1;33m.\u001b[0m\u001b[0mupdate\u001b[0m\u001b[1;33m(\u001b[0m\u001b[1;33m{\u001b[0m\u001b[0mk\u001b[0m\u001b[1;33m:\u001b[0m \u001b[0marg\u001b[0m \u001b[1;32mfor\u001b[0m \u001b[0mk\u001b[0m\u001b[1;33m,\u001b[0m \u001b[0marg\u001b[0m \u001b[1;32min\u001b[0m \u001b[0mzip\u001b[0m\u001b[1;33m(\u001b[0m\u001b[0msig\u001b[0m\u001b[1;33m.\u001b[0m\u001b[0mparameters\u001b[0m\u001b[1;33m,\u001b[0m \u001b[0margs\u001b[0m\u001b[1;33m)\u001b[0m\u001b[1;33m}\u001b[0m\u001b[1;33m)\u001b[0m\u001b[1;33m\u001b[0m\u001b[1;33m\u001b[0m\u001b[0m\n\u001b[1;32m---> 72\u001b[1;33m         \u001b[1;32mreturn\u001b[0m \u001b[0mf\u001b[0m\u001b[1;33m(\u001b[0m\u001b[1;33m**\u001b[0m\u001b[0mkwargs\u001b[0m\u001b[1;33m)\u001b[0m\u001b[1;33m\u001b[0m\u001b[1;33m\u001b[0m\u001b[0m\n\u001b[0m\u001b[0;32m     73\u001b[0m     \u001b[1;32mreturn\u001b[0m \u001b[0minner_f\u001b[0m\u001b[1;33m\u001b[0m\u001b[1;33m\u001b[0m\u001b[0m\n\u001b[0;32m     74\u001b[0m \u001b[1;33m\u001b[0m\u001b[0m\n",
      "\u001b[1;32m~\\anaconda3\\lib\\site-packages\\sklearn\\utils\\extmath.py\u001b[0m in \u001b[0;36msafe_sparse_dot\u001b[1;34m(a, b, dense_output)\u001b[0m\n\u001b[0;32m    151\u001b[0m             \u001b[0mret\u001b[0m \u001b[1;33m=\u001b[0m \u001b[0mnp\u001b[0m\u001b[1;33m.\u001b[0m\u001b[0mdot\u001b[0m\u001b[1;33m(\u001b[0m\u001b[0ma\u001b[0m\u001b[1;33m,\u001b[0m \u001b[0mb\u001b[0m\u001b[1;33m)\u001b[0m\u001b[1;33m\u001b[0m\u001b[1;33m\u001b[0m\u001b[0m\n\u001b[0;32m    152\u001b[0m     \u001b[1;32melse\u001b[0m\u001b[1;33m:\u001b[0m\u001b[1;33m\u001b[0m\u001b[1;33m\u001b[0m\u001b[0m\n\u001b[1;32m--> 153\u001b[1;33m         \u001b[0mret\u001b[0m \u001b[1;33m=\u001b[0m \u001b[0ma\u001b[0m \u001b[1;33m@\u001b[0m \u001b[0mb\u001b[0m\u001b[1;33m\u001b[0m\u001b[1;33m\u001b[0m\u001b[0m\n\u001b[0m\u001b[0;32m    154\u001b[0m \u001b[1;33m\u001b[0m\u001b[0m\n\u001b[0;32m    155\u001b[0m     if (sparse.issparse(a) and sparse.issparse(b)\n",
      "\u001b[1;31mValueError\u001b[0m: matmul: Input operand 1 has a mismatch in its core dimension 0, with gufunc signature (n?,k),(k,m?)->(n?,m?) (size 6188 is different from 13)"
     ]
    }
   ],
   "source": [
    "#Multi Linear Regression\n",
    "X = feature_set.drop(columns = [\"amount\"])\n",
    "Y = feature_set[\"amount\"]\n",
    "d = 12\n",
    "\n",
    "# initialize PolynomialFeatures\n",
    "poly_reg = PolynomialFeatures(degree = d)\n",
    "\n",
    "# Polynomial transformation\n",
    "x_poly = poly_reg.fit_transform(X)\n",
    "\n",
    "# Fitting linear regression to polynomial features\n",
    "lin_reg_Poly = LinearRegression()\n",
    "lin_reg_Poly.fit(x_poly, Y)\n",
    "model_pred = lin_reg_Poly.predict(x_poly)\n",
    "    \n",
    "# Plotting the regression line and the data (we have to transform the inputs as well!)\n",
    "x_fit = np.arange(0,24 ,1)[:, np.newaxis]\n",
    "y_pred = lin_reg_Poly.predict(poly_reg.fit_transform(x_fit))\n",
    "    \n",
    "plt.figure(figsize = (8,6))\n",
    "plt.scatter(X,Y,marker=\"x\", c='C2')\n",
    "ylim = plt.ylim()\n",
    "plt.plot(x_fit,y_pred, c='C1')\n",
    "plt.xlabel(\"hour\")\n",
    "plt.ylabel(\"amount\")\n",
    "plt.xlim([0,24]) # leave some space before and after limits\n",
    "plt.ylim(ylim)\n",
    "print ('The R^2 for the curve (degree = {}) is:'.format(d),r2_score(Y, model_pred))\n",
    "#print(lin_reg_Poly.coef_)"
   ]
  },
  {
   "cell_type": "code",
   "execution_count": null,
   "metadata": {},
   "outputs": [],
   "source": []
  },
  {
   "cell_type": "code",
   "execution_count": null,
   "metadata": {},
   "outputs": [],
   "source": []
  },
  {
   "cell_type": "code",
   "execution_count": null,
   "metadata": {},
   "outputs": [],
   "source": []
  },
  {
   "cell_type": "code",
   "execution_count": null,
   "metadata": {},
   "outputs": [],
   "source": []
  },
  {
   "cell_type": "code",
   "execution_count": null,
   "metadata": {},
   "outputs": [],
   "source": []
  },
  {
   "cell_type": "code",
   "execution_count": null,
   "metadata": {},
   "outputs": [],
   "source": []
  },
  {
   "cell_type": "code",
   "execution_count": null,
   "metadata": {},
   "outputs": [],
   "source": []
  },
  {
   "cell_type": "code",
   "execution_count": null,
   "metadata": {},
   "outputs": [],
   "source": []
  },
  {
   "cell_type": "code",
   "execution_count": null,
   "metadata": {},
   "outputs": [],
   "source": []
  },
  {
   "cell_type": "code",
   "execution_count": null,
   "metadata": {},
   "outputs": [],
   "source": []
  },
  {
   "cell_type": "code",
   "execution_count": null,
   "metadata": {},
   "outputs": [],
   "source": []
  },
  {
   "cell_type": "code",
   "execution_count": null,
   "metadata": {},
   "outputs": [],
   "source": []
  },
  {
   "cell_type": "code",
   "execution_count": null,
   "metadata": {},
   "outputs": [],
   "source": []
  },
  {
   "cell_type": "code",
   "execution_count": null,
   "metadata": {},
   "outputs": [],
   "source": []
  },
  {
   "cell_type": "code",
   "execution_count": null,
   "metadata": {},
   "outputs": [],
   "source": []
  },
  {
   "cell_type": "code",
   "execution_count": null,
   "metadata": {},
   "outputs": [],
   "source": []
  },
  {
   "cell_type": "code",
   "execution_count": null,
   "metadata": {},
   "outputs": [],
   "source": []
  },
  {
   "cell_type": "code",
   "execution_count": null,
   "metadata": {},
   "outputs": [],
   "source": []
  },
  {
   "cell_type": "code",
   "execution_count": null,
   "metadata": {},
   "outputs": [],
   "source": []
  },
  {
   "cell_type": "code",
   "execution_count": null,
   "metadata": {},
   "outputs": [],
   "source": []
  },
  {
   "cell_type": "code",
   "execution_count": null,
   "metadata": {},
   "outputs": [],
   "source": []
  },
  {
   "cell_type": "code",
   "execution_count": null,
   "metadata": {},
   "outputs": [],
   "source": []
  },
  {
   "cell_type": "code",
   "execution_count": null,
   "metadata": {},
   "outputs": [],
   "source": []
  },
  {
   "cell_type": "code",
   "execution_count": null,
   "metadata": {},
   "outputs": [],
   "source": []
  },
  {
   "cell_type": "code",
   "execution_count": null,
   "metadata": {},
   "outputs": [],
   "source": []
  },
  {
   "cell_type": "code",
   "execution_count": null,
   "metadata": {},
   "outputs": [],
   "source": []
  },
  {
   "cell_type": "code",
   "execution_count": null,
   "metadata": {},
   "outputs": [],
   "source": []
  },
  {
   "cell_type": "code",
   "execution_count": null,
   "metadata": {},
   "outputs": [],
   "source": []
  },
  {
   "cell_type": "code",
   "execution_count": null,
   "metadata": {},
   "outputs": [],
   "source": []
  },
  {
   "cell_type": "code",
   "execution_count": null,
   "metadata": {},
   "outputs": [],
   "source": []
  },
  {
   "cell_type": "code",
   "execution_count": null,
   "metadata": {},
   "outputs": [],
   "source": []
  },
  {
   "cell_type": "code",
   "execution_count": null,
   "metadata": {},
   "outputs": [],
   "source": []
  },
  {
   "cell_type": "code",
   "execution_count": null,
   "metadata": {},
   "outputs": [],
   "source": []
  },
  {
   "cell_type": "code",
   "execution_count": null,
   "metadata": {},
   "outputs": [],
   "source": []
  },
  {
   "cell_type": "markdown",
   "metadata": {},
   "source": [
    "### Comparison between a single and a double Dimemsional KNN regression:"
   ]
  },
  {
   "cell_type": "code",
   "execution_count": null,
   "metadata": {},
   "outputs": [],
   "source": [
    "X = feature_set[\"hour_of_the_day\"].values.reshape(-1, 1)\n",
    "y = feature_set[\"amount\"]\n",
    "KNN_1_1d = KNeighborsRegressor(n_neighbors=9)\n",
    "KNN_model_1_1d = KNN_1_1d.fit(X,y)\n"
   ]
  },
  {
   "cell_type": "code",
   "execution_count": null,
   "metadata": {},
   "outputs": [],
   "source": [
    "plt.figure(figsize = (8,6))\n",
    "plt.scatter(X, y, marker=\"x\")\n",
    "plt.plot(np.arange(0,24,1),KNN_model_1_1d.predict(np.arange(0,24,1).reshape(-1,1)), marker=\"x\", color='C1')\n",
    "plt.xlabel(\"hour_of_the_day\")\n",
    "plt.ylabel(\"amount\")\n",
    "plt.show()"
   ]
  },
  {
   "cell_type": "code",
   "execution_count": null,
   "metadata": {},
   "outputs": [],
   "source": [
    "plt.figure(figsize = (8,6))\n",
    "\n",
    "sns.scatterplot(x=feature_set[\"hour_of_the_day\"], y=feature_set[\"amount\"], \n",
    "                hue=feature_set[\"precip\"])\n",
    "# hue = precip\n",
    "plt.show()"
   ]
  },
  {
   "cell_type": "code",
   "execution_count": null,
   "metadata": {},
   "outputs": [],
   "source": [
    "X = feature_set[[\"hour_of_the_day\", \"precip\"]]\n",
    "y = feature_set[\"amount\"]\n",
    "KNN_1_2d = KNeighborsRegressor(n_neighbors=9)\n",
    "KNN_model_1_2d = KNN_1_2d.fit(X,y)\n"
   ]
  },
  {
   "cell_type": "code",
   "execution_count": null,
   "metadata": {
    "scrolled": false
   },
   "outputs": [],
   "source": [
    "X_no_precip = X[X[\"precip\"]==0]\n",
    "X_precip = X[X[\"precip\"]==1]\n",
    "\n",
    "\n",
    "# predict precip and no_precip seperately\n",
    "y_pred_no_precip = KNN_model_1_2d.predict(X_no_precip)\n",
    "y_pred_precip = KNN_model_1_2d.predict(X_precip)\n",
    "\n",
    "plt.figure(figsize = (8,6))\n",
    "\n",
    "\n",
    "plt.scatter(X_no_precip[\"hour_of_the_day\"], \n",
    "            feature_set[feature_set[\"precip\"]==False][\"amount\"], \n",
    "            marker=\"x\", label=\"Observed no precips\")\n",
    "plt.scatter(X_precip[\"hour_of_the_day\"], \n",
    "            feature_set[feature_set[\"precip\"]==True][\"amount\"], \n",
    "            marker=\"+\", label=\"Observed precips\")\n",
    "\n",
    "#Xnew = np.array([[30,0,3,20,6]]) #predict peak demand at 30deg c, no rain, thursday, 8p.m., june\n",
    "\n",
    "zero_to_24_precip = np.array([[0,1,2,3,4,5,6,7,8,9,10,11,12,13,14,15,16,17,18,19,20,21,22,23]\n",
    "                              ,[1,1,1,1,1,1,1,1,1,1,1,1,1,1,1,1,1,1,1,1,1,1,1,1]]).T\n",
    "zero_to_24_no_precip = np.array([[0,1,2,3,4,5,6,7,8,9,10,11,12,13,14,15,16,17,18,19,20,21,22,23]\n",
    "                                 ,[0,0,0,0,0,0,0,0,0,0,0,0,0,0,0,0,0,0,0,0,0,0,0,0]]).T\n",
    "\n",
    "                              \n",
    "plt.plot(np.arange(0,24,1), KNN_model_1_2d.predict(zero_to_24_precip), marker=\"+\", color='C1')\n",
    "plt.plot(np.arange(0,24,1), KNN_model_1_2d.predict(zero_to_24_no_precip), marker=\"x\", color='C0')\n",
    "\n",
    "\n",
    "plt.xlabel(\"hour_of_the_day\")\n",
    "plt.ylabel(\"amount\")\n",
    "\n",
    "plt.legend()\n",
    "plt.show()"
   ]
  },
  {
   "cell_type": "code",
   "execution_count": null,
   "metadata": {
    "scrolled": true
   },
   "outputs": [],
   "source": [
    "y_true = feature_set[\"amount\"]\n",
    "#features\n",
    "X_1d = feature_set[\"hour_of_the_day\"].values.reshape((-1,1)) # need to reshape 1d vector\n",
    "X_2d = feature_set[[\"hour_of_the_day\",\"precip\"]]\n",
    "\n",
    "# make predictions (models have already been fitted above!)\n",
    "y_pred_1d = KNN_model_1_1d.predict(X_1d)\n",
    "y_pred_2d = KNN_model_1_2d.predict(X_2d)\n",
    "\n",
    "# report test metrics\n",
    "\n",
    "print(\"MAE 1D:\", mean_absolute_error(y_true,y_pred_1d))\n",
    "print(\"MAE 2D:\", mean_absolute_error(y_true,y_pred_2d))\n",
    "\n",
    "print(\"RMSE 1D:\", mean_squared_error(y_true,y_pred_1d)**0.5)\n",
    "print(\"RMSE 2D:\", mean_squared_error(y_true,y_pred_2d)**0.5)\n",
    "\n",
    "print(\"R2 1D:\", r2_score(y_true,y_pred_1d))\n",
    "print(\"R2 2D:\", r2_score(y_true,y_pred_2d))"
   ]
  },
  {
   "cell_type": "code",
   "execution_count": null,
   "metadata": {},
   "outputs": [],
   "source": []
  },
  {
   "cell_type": "code",
   "execution_count": null,
   "metadata": {},
   "outputs": [],
   "source": []
  },
  {
   "cell_type": "code",
   "execution_count": null,
   "metadata": {},
   "outputs": [],
   "source": []
  },
  {
   "cell_type": "code",
   "execution_count": null,
   "metadata": {},
   "outputs": [],
   "source": []
  },
  {
   "cell_type": "code",
   "execution_count": null,
   "metadata": {},
   "outputs": [],
   "source": []
  },
  {
   "cell_type": "code",
   "execution_count": null,
   "metadata": {},
   "outputs": [],
   "source": []
  },
  {
   "cell_type": "code",
   "execution_count": null,
   "metadata": {},
   "outputs": [],
   "source": []
  },
  {
   "cell_type": "code",
   "execution_count": null,
   "metadata": {},
   "outputs": [],
   "source": []
  },
  {
   "cell_type": "markdown",
   "metadata": {},
   "source": [
    "### Regression:"
   ]
  },
  {
   "cell_type": "markdown",
   "metadata": {},
   "source": [
    "#### Starting with finding the right k for our feature_set:"
   ]
  },
  {
   "cell_type": "code",
   "execution_count": null,
   "metadata": {},
   "outputs": [],
   "source": [
    "def find_knn_R2 (max_k):\n",
    "    \n",
    "    err_train = [] \n",
    "    err_test = []\n",
    "    \n",
    "  #  x_train, x_test, y_train, y_test = train_test_split(x, y, test_size=0.3,random_state=10)\n",
    "\n",
    "    for n in np.arange(1,max_k):\n",
    "\n",
    "        # fit model\n",
    "        KNN_reg = KNeighborsRegressor(n_neighbors=n)\n",
    "        KNN_model = KNN_reg.fit(x_train, y_train)\n",
    "\n",
    "\n",
    "        # compute errors\n",
    "        err_train.append(r2_score(KNN_model.predict(x_train), y_train))\n",
    "        err_test.append(r2_score(KNN_model.predict(x_test), y_test))\n",
    "        \n",
    "        \n",
    "    plt.figure(figsize = (8,6))\n",
    "    plt.plot(np.arange(1,max_k), err_train,np.arange(1,max_k), err_test)\n",
    "    plt.legend([\"Training\", \"Validation\"])\n",
    "    plt.xlabel(\"Number of neighbors\")\n",
    "    plt.ylabel(\"R2\")\n",
    "    #plt.ylim((0,1))\n",
    "    plt.show()\n",
    "\n",
    "    \n",
    "    \n",
    "def find_knn_MAE (max_k):\n",
    "    \n",
    "    err_train = [] \n",
    "    err_test = []\n",
    "    \n",
    "  #  x_train, x_test, y_train, y_test = train_test_split(x, y, test_size=0.3,random_state=10)\n",
    "\n",
    "    for n in np.arange(1,max_k):\n",
    "\n",
    "        # fit model\n",
    "        KNN_reg = KNeighborsRegressor(n_neighbors=n)\n",
    "        KNN_model = KNN_reg.fit(x_train, y_train)\n",
    "\n",
    "\n",
    "        # compute errors\n",
    "        err_train.append(mean_absolute_error(KNN_model.predict(x_train), y_train))\n",
    "        err_test.append(mean_absolute_error(KNN_model.predict(x_test), y_test))\n",
    "        \n",
    "        \n",
    "    plt.figure(figsize = (8,6))\n",
    "    plt.plot(np.arange(1,max_k), err_train,np.arange(1,max_k), err_test)\n",
    "    plt.legend([\"Training\", \"Validation\"])\n",
    "    plt.xlabel(\"Number of neighbors\")\n",
    "    plt.ylabel(\"MAE\")\n",
    "    #plt.ylim((0,1))\n",
    "    plt.show()"
   ]
  },
  {
   "cell_type": "code",
   "execution_count": null,
   "metadata": {},
   "outputs": [],
   "source": [
    "find_knn_R2 (max_k=50)"
   ]
  },
  {
   "cell_type": "code",
   "execution_count": null,
   "metadata": {
    "scrolled": false
   },
   "outputs": [],
   "source": [
    "find_knn_MAE (max_k=50)"
   ]
  },
  {
   "cell_type": "markdown",
   "metadata": {},
   "source": [
    "#### Creating a regression model with the right k=9 (see above):"
   ]
  },
  {
   "cell_type": "code",
   "execution_count": null,
   "metadata": {},
   "outputs": [],
   "source": [
    "#Fit model\n",
    "KNN_reg = KNeighborsRegressor(n_neighbors=9)\n",
    "KNN_model = KNN_reg.fit(x_train, y_train) \n",
    "\n",
    "# Predict\n",
    "y_hat_KNN = KNN_model.predict(x_test)"
   ]
  },
  {
   "cell_type": "markdown",
   "metadata": {},
   "source": [
    "#### Printing the perfomance indices of the regression:"
   ]
  },
  {
   "cell_type": "code",
   "execution_count": null,
   "metadata": {
    "scrolled": true
   },
   "outputs": [],
   "source": [
    "print(\"Test set performance:\")\n",
    "\n",
    "print(\"MAE:\",mean_absolute_error(y_hat_KNN, y_test), \"Bike rentings\")\n",
    "print(\"RMSE:\",(mean_squared_error(y_hat_KNN, y_test))**(0.5), \"Bike rentings\")  \n",
    "print(\"R2:\",r2_score(y_hat_KNN, y_test))"
   ]
  },
  {
   "cell_type": "markdown",
   "metadata": {},
   "source": [
    "#### Overview of the features:"
   ]
  },
  {
   "cell_type": "code",
   "execution_count": null,
   "metadata": {
    "scrolled": true
   },
   "outputs": [],
   "source": [
    "x_train.info() #show all features for the prediction"
   ]
  },
  {
   "cell_type": "markdown",
   "metadata": {},
   "source": [
    "#### Time for some predictions:"
   ]
  },
  {
   "cell_type": "code",
   "execution_count": null,
   "metadata": {},
   "outputs": [],
   "source": [
    "# temp,precip,day of week, hour of the day, month\n",
    "\n",
    "Xnew = np.array([[28,0,4,20,7]]) #predict peak demand at 28deg c, no rain, frieday, 8p.m., july\n",
    "print(\"Exact prediction:\", KNN_model.predict(Xnew)[0][0])\n",
    "print(\"We probably should supply a minimum of\",np.int_(KNN_model.predict(Xnew))[0][0]+1, \"Bikes, for our inserted parameters.\")"
   ]
  },
  {
   "cell_type": "code",
   "execution_count": null,
   "metadata": {},
   "outputs": [],
   "source": [
    "Xnew = np.array([[15,0,4,20,1]]) #predict peak demand at 15deg c, no rain, frieday, 8p.m., january\n",
    "print(\"Exact prediction:\", KNN_model.predict(Xnew)[0][0])\n",
    "print(\"We probably should supply a minimum of\",np.int_(KNN_model.predict(Xnew))[0][0]+1, \"Bikes, for our inserted parameters.\")"
   ]
  },
  {
   "cell_type": "code",
   "execution_count": null,
   "metadata": {},
   "outputs": [],
   "source": [
    "Xnew = np.array([[20,0,0,8,6]]) #predict peak demand at 20deg c, no rain, monday, 8a.m., june\n",
    "print(\"Exact prediction:\", KNN_model.predict(Xnew)[0][0])\n",
    "print(\"We probably should supply a minimum of\",np.int_(KNN_model.predict(Xnew))[0][0]+1, \"Bikes, for our inserted parameters.\")"
   ]
  },
  {
   "cell_type": "code",
   "execution_count": null,
   "metadata": {},
   "outputs": [],
   "source": [
    "Xnew = np.array([[10,1,1,8,4]]) #predict peak demand at 100deg c, rain, thursday, 8a.m., april\n",
    "print(\"Exact prediction:\", KNN_model.predict(Xnew)[0][0])\n",
    "print(\"We probably should supply a minimum of\",np.int_(KNN_model.predict(Xnew))[0][0]+1, \"Bikes, for our inserted parameters.\")"
   ]
  },
  {
   "cell_type": "code",
   "execution_count": null,
   "metadata": {},
   "outputs": [],
   "source": []
  }
 ],
 "metadata": {
  "kernelspec": {
   "display_name": "Python 3",
   "language": "python",
   "name": "python3"
  },
  "language_info": {
   "codemirror_mode": {
    "name": "ipython",
    "version": 3
   },
   "file_extension": ".py",
   "mimetype": "text/x-python",
   "name": "python",
   "nbconvert_exporter": "python",
   "pygments_lexer": "ipython3",
   "version": "3.8.5"
  }
 },
 "nbformat": 4,
 "nbformat_minor": 4
}
