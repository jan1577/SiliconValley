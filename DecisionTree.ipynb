{
 "cells": [
  {
   "cell_type": "markdown",
   "id": "dfc0eee0",
   "metadata": {},
   "source": [
    "## Decision Tree"
   ]
  },
  {
   "cell_type": "markdown",
   "id": "55e48ef4",
   "metadata": {},
   "source": [
    "Import statements"
   ]
  },
  {
   "cell_type": "code",
   "execution_count": 449,
   "id": "e3097eb6",
   "metadata": {},
   "outputs": [],
   "source": [
    "import pandas as pd\n",
    "import numpy as np\n",
    "import datetime as dt\n",
    "\n",
    "import matplotlib as mpl\n",
    "import matplotlib.pyplot as plt\n",
    "import seaborn as sns\n",
    "from matplotlib import pyplot as plt\n",
    "%matplotlib inline\n",
    "\n",
    "import sklearn\n",
    "import warnings\n",
    "from sklearn.linear_model import LinearRegression\n",
    "\n",
    "from sklearn.metrics import mean_squared_error, mean_absolute_error, r2_score\n",
    "from sklearn.model_selection import train_test_split\n",
    "\n",
    "#not using atm\n",
    "# from sklearn.tree import DecisionTreeRegressor, export_graphviz\n",
    "\n",
    "from sklearn.tree import DecisionTreeRegressor\n",
    "from sklearn.model_selection import cross_val_score"
   ]
  },
  {
   "cell_type": "markdown",
   "id": "53156b50",
   "metadata": {},
   "source": [
    "Reading in our feature set"
   ]
  },
  {
   "cell_type": "code",
   "execution_count": 450,
   "id": "24085f0f",
   "metadata": {
    "scrolled": false
   },
   "outputs": [
    {
     "data": {
      "text/html": [
       "<div>\n",
       "<style scoped>\n",
       "    .dataframe tbody tr th:only-of-type {\n",
       "        vertical-align: middle;\n",
       "    }\n",
       "\n",
       "    .dataframe tbody tr th {\n",
       "        vertical-align: top;\n",
       "    }\n",
       "\n",
       "    .dataframe thead th {\n",
       "        text-align: right;\n",
       "    }\n",
       "</style>\n",
       "<table border=\"1\" class=\"dataframe\">\n",
       "  <thead>\n",
       "    <tr style=\"text-align: right;\">\n",
       "      <th></th>\n",
       "      <th>max_temp</th>\n",
       "      <th>precip</th>\n",
       "      <th>amount</th>\n",
       "      <th>day_of_week</th>\n",
       "      <th>hour_of_the_day</th>\n",
       "      <th>month</th>\n",
       "    </tr>\n",
       "    <tr>\n",
       "      <th>hour_from_zero</th>\n",
       "      <th></th>\n",
       "      <th></th>\n",
       "      <th></th>\n",
       "      <th></th>\n",
       "      <th></th>\n",
       "      <th></th>\n",
       "    </tr>\n",
       "  </thead>\n",
       "  <tbody>\n",
       "    <tr>\n",
       "      <th>1</th>\n",
       "      <td>15.6</td>\n",
       "      <td>0</td>\n",
       "      <td>19</td>\n",
       "      <td>1</td>\n",
       "      <td>1</td>\n",
       "      <td>1</td>\n",
       "    </tr>\n",
       "    <tr>\n",
       "      <th>2</th>\n",
       "      <td>15.0</td>\n",
       "      <td>0</td>\n",
       "      <td>8</td>\n",
       "      <td>1</td>\n",
       "      <td>2</td>\n",
       "      <td>1</td>\n",
       "    </tr>\n",
       "    <tr>\n",
       "      <th>3</th>\n",
       "      <td>15.0</td>\n",
       "      <td>0</td>\n",
       "      <td>16</td>\n",
       "      <td>1</td>\n",
       "      <td>3</td>\n",
       "      <td>1</td>\n",
       "    </tr>\n",
       "  </tbody>\n",
       "</table>\n",
       "</div>"
      ],
      "text/plain": [
       "                max_temp  precip  amount  day_of_week  hour_of_the_day  month\n",
       "hour_from_zero                                                               \n",
       "1                   15.6       0      19            1                1      1\n",
       "2                   15.0       0       8            1                2      1\n",
       "3                   15.0       0      16            1                3      1"
      ]
     },
     "execution_count": 450,
     "metadata": {},
     "output_type": "execute_result"
    }
   ],
   "source": [
    "feature_set = pd.read_pickle(\"feature_set.pkl\")\n",
    "feature_set.head(3)"
   ]
  },
  {
   "cell_type": "markdown",
   "id": "1403733e",
   "metadata": {},
   "source": [
    "Try different depths in order to get the best fit using r^2"
   ]
  },
  {
   "cell_type": "code",
   "execution_count": 451,
   "id": "a6e17754",
   "metadata": {},
   "outputs": [],
   "source": [
    "depths = [None, 2,3,4,5,6,7,8,9,10,15,20,25, 50, 100]\n",
    "scores_mean = []"
   ]
  },
  {
   "cell_type": "code",
   "execution_count": 452,
   "id": "0646396c",
   "metadata": {
    "scrolled": false
   },
   "outputs": [],
   "source": [
    "for depth_ in depths:\n",
    "    regressor = DecisionTreeRegressor(max_depth = depth_)\n",
    "# regressor.fit(weather_demand_final[['max_temp', 'precip', 'day_of_week', 'hour_of_the_day', 'month']], \n",
    "#               weather_demand_final['amount'])\n",
    "\n",
    "\n",
    "    regressor.fit(feature_set[['max_temp', 'precip', 'day_of_week', 'hour_of_the_day', 'month']], \n",
    "                  feature_set['amount'])\n",
    "    \n",
    "    scores = cross_val_score(regressor, feature_set[['max_temp', 'precip', 'day_of_week', 'hour_of_the_day', 'month']], \n",
    "                          feature_set['amount'], scoring='r2', cv=10)\n",
    "    scores_mean.append((depth_, scores.mean()))\n",
    "    #print(depth_, scores.mean())\n"
   ]
  },
  {
   "cell_type": "code",
   "execution_count": 453,
   "id": "1c6dfc30",
   "metadata": {
    "scrolled": true
   },
   "outputs": [
    {
     "data": {
      "text/plain": [
       "[(None, 0.5060412148230451),\n",
       " (2, 0.502408513181395),\n",
       " (3, 0.5749308842211861),\n",
       " (4, 0.6240770021668569),\n",
       " (5, 0.6585073867583464),\n",
       " (6, 0.6715852300496341),\n",
       " (7, 0.674163888735127),\n",
       " (8, 0.6750496925374642),\n",
       " (9, 0.661699865570951),\n",
       " (10, 0.6245959887025826),\n",
       " (15, 0.5327021230162161),\n",
       " (20, 0.5163585275369398),\n",
       " (25, 0.5217575058876276),\n",
       " (50, 0.5286934432258941),\n",
       " (100, 0.5243622017930922)]"
      ]
     },
     "execution_count": 453,
     "metadata": {},
     "output_type": "execute_result"
    }
   ],
   "source": [
    "scores_mean"
   ]
  },
  {
   "cell_type": "markdown",
   "id": "6869d975",
   "metadata": {},
   "source": [
    "Plot the r^2 values for different depths"
   ]
  },
  {
   "cell_type": "code",
   "execution_count": 454,
   "id": "e1ebeadf",
   "metadata": {},
   "outputs": [
    {
     "data": {
      "text/plain": [
       "[<matplotlib.lines.Line2D at 0x23b1efcf3a0>]"
      ]
     },
     "execution_count": 454,
     "metadata": {},
     "output_type": "execute_result"
    },
    {
     "data": {
      "image/png": "[encoded data removed]",
      "text/plain": [
       "<Figure size 576x432 with 1 Axes>"
      ]
     },
     "metadata": {
      "needs_background": "light"
     },
     "output_type": "display_data"
    }
   ],
   "source": [
    "plt.figure(figsize = (8,6))\n",
    "x,y = zip(*scores_mean)\n",
    "plt.plot(x,y)"
   ]
  },
  {
   "cell_type": "markdown",
   "id": "e2f05aae",
   "metadata": {},
   "source": [
    "Search for best depth"
   ]
  },
  {
   "cell_type": "code",
   "execution_count": 455,
   "id": "bc5fc814",
   "metadata": {
    "scrolled": true
   },
   "outputs": [
    {
     "data": {
      "text/plain": [
       "(8, 0.6750496925374642)"
      ]
     },
     "execution_count": 455,
     "metadata": {},
     "output_type": "execute_result"
    }
   ],
   "source": [
    "max(scores_mean ,key=lambda item:item[1])"
   ]
  },
  {
   "cell_type": "markdown",
   "id": "6fc658b6",
   "metadata": {},
   "source": [
    "Using depth = 8, trying different number of splits"
   ]
  },
  {
   "cell_type": "code",
   "execution_count": 456,
   "id": "54dbdd3e",
   "metadata": {},
   "outputs": [
    {
     "data": {
      "text/plain": [
       "DecisionTreeRegressor(max_depth=8)"
      ]
     },
     "execution_count": 456,
     "metadata": {},
     "output_type": "execute_result"
    }
   ],
   "source": [
    "regressor = DecisionTreeRegressor(max_depth=8)\n",
    "regressor"
   ]
  },
  {
   "cell_type": "code",
   "execution_count": 457,
   "id": "72bfd291",
   "metadata": {},
   "outputs": [],
   "source": [
    "number_of_splits = []\n",
    "for i in range (2,15):\n",
    "    number_of_splits.append(i)"
   ]
  },
  {
   "cell_type": "code",
   "execution_count": 458,
   "id": "be823e70",
   "metadata": {},
   "outputs": [],
   "source": [
    "scores_mean = []\n",
    "for num in number_of_splits:\n",
    "    scores = cross_val_score(regressor, feature_set[['max_temp', 'precip', 'day_of_week', \n",
    "                                                                'hour_of_the_day', 'month']], \n",
    "                              feature_set['amount'], scoring = 'r2', cv= num)\n",
    "    scores_mean.append((num, scores.mean()))\n",
    "# scores_mean"
   ]
  },
  {
   "cell_type": "markdown",
   "id": "016dc3c4",
   "metadata": {},
   "source": [
    "plot r^2 values for different numbers of splits"
   ]
  },
  {
   "cell_type": "code",
   "execution_count": 459,
   "id": "d8367940",
   "metadata": {},
   "outputs": [
    {
     "data": {
      "text/plain": [
       "[<matplotlib.lines.Line2D at 0x23b1f02d730>]"
      ]
     },
     "execution_count": 459,
     "metadata": {},
     "output_type": "execute_result"
    },
    {
     "data": {
      "image/png": "[encoded data removed]",
      "text/plain": [
       "<Figure size 576x432 with 1 Axes>"
      ]
     },
     "metadata": {
      "needs_background": "light"
     },
     "output_type": "display_data"
    }
   ],
   "source": [
    "plt.figure(figsize = (8,6))\n",
    "x,y = zip(*scores_mean)\n",
    "\n",
    "plt.plot(x,y)"
   ]
  },
  {
   "cell_type": "code",
   "execution_count": 460,
   "id": "4e48041e",
   "metadata": {},
   "outputs": [
    {
     "name": "stdout",
     "output_type": "stream",
     "text": [
      "Number of Splits, R^2: (11, 0.7220055205047025)\n"
     ]
    }
   ],
   "source": [
    "print(\"Number of Splits, R^2:\", max(scores_mean ,key=lambda item:item[1]))"
   ]
  },
  {
   "cell_type": "markdown",
   "id": "6ba4a976",
   "metadata": {},
   "source": [
    "Search for best combination of splits and depth to check if it's the same as it was when we searched for best values seperately"
   ]
  },
  {
   "cell_type": "code",
   "execution_count": 461,
   "id": "5e2415b7",
   "metadata": {
    "scrolled": true
   },
   "outputs": [],
   "source": [
    "scores_mean2 = []\n",
    "for depth_ in depths:\n",
    "    for num in number_of_splits:\n",
    "        regressor = DecisionTreeRegressor(max_depth = depth_)\n",
    "        regressor.fit(feature_set[['max_temp', 'precip', 'day_of_week', 'hour_of_the_day', 'month']], \n",
    "                  feature_set['amount'])\n",
    "    \n",
    "        scores = cross_val_score(regressor, feature_set[['max_temp', 'precip', 'day_of_week', 'hour_of_the_day', 'month']], \n",
    "                          feature_set['amount'], scoring='r2', cv=num)\n",
    "        scores_mean2.append((depth_, num, scores.mean()))\n",
    "        "
   ]
  },
  {
   "cell_type": "code",
   "execution_count": 462,
   "id": "89e4ee8d",
   "metadata": {
    "scrolled": true
   },
   "outputs": [
    {
     "name": "stdout",
     "output_type": "stream",
     "text": [
      "Depth, Number of Splits, R^2: (8, 11, 0.7219091849484784)\n"
     ]
    }
   ],
   "source": [
    "print(\"Depth, Number of Splits, R^2:\", max(scores_mean2 ,key=lambda item:item[2]))"
   ]
  },
  {
   "cell_type": "markdown",
   "id": "b839b927",
   "metadata": {},
   "source": [
    "Best combination depth 8, number of splits 11"
   ]
  },
  {
   "cell_type": "markdown",
   "id": "309dac25",
   "metadata": {},
   "source": [
    "Get different scores (MAE, MSE, RMSE)"
   ]
  },
  {
   "cell_type": "code",
   "execution_count": 463,
   "id": "de9d2643",
   "metadata": {},
   "outputs": [],
   "source": [
    "scorers = ['neg_mean_absolute_error', 'neg_mean_squared_error', 'neg_root_mean_squared_error']"
   ]
  },
  {
   "cell_type": "code",
   "execution_count": 464,
   "id": "0790a8bf",
   "metadata": {
    "scrolled": false
   },
   "outputs": [
    {
     "name": "stdout",
     "output_type": "stream",
     "text": [
      "neg_mean_absolute_error\n",
      "[ 8.65605713  8.26942591  5.78460918  5.84495413  6.59536824  7.33029164\n",
      "  7.94639499  8.32669882  9.42622436 10.95756444 10.36180626]\n",
      "mean: 8.136308644840419\n",
      "\n",
      "neg_mean_squared_error\n",
      "[168.95336848 165.90702165  62.89580623  70.13717713  86.27712024\n",
      " 107.8518799  137.64289991 135.20555157 444.34665737 264.31322562\n",
      " 256.99507107]\n",
      "mean: 172.77507083302086\n",
      "\n",
      "neg_root_mean_squared_error\n",
      "[13.00101597 12.88576896  7.93068763  8.37479415  9.2885478  10.38517597\n",
      " 11.72934518 11.62779221 21.07953172 16.2577128  16.01748007]\n",
      "mean: 12.597986586768087\n",
      "\n"
     ]
    }
   ],
   "source": [
    "regressor = DecisionTreeRegressor(max_depth=8)\n",
    "for scorer in scorers:\n",
    "    scores = -cross_val_score(regressor,feature_set[['max_temp', 'precip', 'day_of_week', \n",
    "                                                            'hour_of_the_day', 'month']], \n",
    "                          feature_set['amount'], scoring = scorer, cv=11)\n",
    "    print(scorer)\n",
    "    print(scores)\n",
    "    print(\"mean:\", scores.mean())\n",
    "    print(\"\")"
   ]
  },
  {
   "cell_type": "markdown",
   "id": "0ead7e05",
   "metadata": {},
   "source": [
    "Finetuning of hyperparameters"
   ]
  },
  {
   "cell_type": "code",
   "execution_count": 465,
   "id": "5733fdd9",
   "metadata": {},
   "outputs": [],
   "source": [
    "# min_samples_split: int, float, optional (default=2)\n",
    "# The minimum number of samples required to split an internal node\n",
    "sp = [2,3,4,5,6,7,8,9,10]\n",
    "scores_mean = []"
   ]
  },
  {
   "cell_type": "code",
   "execution_count": 466,
   "id": "7e53d380",
   "metadata": {},
   "outputs": [],
   "source": [
    "for sp_ in sp:    \n",
    "    regressor = DecisionTreeRegressor(max_depth=8, min_samples_split = sp_)\n",
    "    regressor.fit(feature_set[['max_temp', 'precip', 'day_of_week', 'hour_of_the_day', 'month']], \n",
    "                  feature_set['amount'])\n",
    "    scores = cross_val_score(regressor, feature_set[['max_temp', 'precip', 'day_of_week', 'hour_of_the_day', 'month']], \n",
    "                             feature_set['amount'], scoring='r2', cv=11)\n",
    "    scores_mean.append((sp_, scores.mean()))"
   ]
  },
  {
   "cell_type": "code",
   "execution_count": 467,
   "id": "ecb70104",
   "metadata": {
    "scrolled": true
   },
   "outputs": [
    {
     "name": "stdout",
     "output_type": "stream",
     "text": [
      "min_sample_split, r^2 (8, 0.7231828168945614)\n"
     ]
    }
   ],
   "source": [
    "print(\"min_sample_split, r^2\", max(scores_mean ,key=lambda item:item[1]))"
   ]
  },
  {
   "cell_type": "code",
   "execution_count": 468,
   "id": "2585d48d",
   "metadata": {},
   "outputs": [
    {
     "data": {
      "text/plain": [
       "DecisionTreeRegressor(max_depth=8, min_samples_split=8)"
      ]
     },
     "execution_count": 468,
     "metadata": {},
     "output_type": "execute_result"
    }
   ],
   "source": [
    "regressor = DecisionTreeRegressor(max_depth=8, min_samples_split = 8)\n",
    "regressor.fit(feature_set[['max_temp', 'precip', 'day_of_week', 'hour_of_the_day', 'month']], \n",
    "                  feature_set['amount'])"
   ]
  },
  {
   "cell_type": "code",
   "execution_count": 469,
   "id": "df6d05dc",
   "metadata": {},
   "outputs": [],
   "source": [
    "#vreate a list for our final scores\n",
    "final_values = []\n",
    "# add r^2 value to final_values\n",
    "final_values.append((max(scores_mean ,key=lambda item:item[1]))[1])"
   ]
  },
  {
   "cell_type": "code",
   "execution_count": 470,
   "id": "65ab2e8e",
   "metadata": {
    "scrolled": true
   },
   "outputs": [
    {
     "name": "stdout",
     "output_type": "stream",
     "text": [
      "neg_mean_absolute_error\n",
      "[ 8.62003698  8.221507    5.80110792  5.83847698  6.57540602  7.34204647\n",
      "  7.93413638  8.30276934  9.43806007 10.92793014 10.35049719]\n",
      "mean: 8.122906771579956 \n",
      "\n",
      "neg_mean_squared_error\n",
      "[168.3037939  163.7654982   63.06158989  70.06510598  86.60291124\n",
      " 108.4114237  137.48374033 135.00718885 444.4258066  263.25910624\n",
      " 256.41671027]\n",
      "mean: 172.4366250177315 \n",
      "\n",
      "neg_root_mean_squared_error\n",
      "[12.97319521 12.79708944  7.94113278  8.37049019  9.30606852 10.41208066\n",
      " 11.72534606 11.61925939 21.08140903 16.22526136 16.0130169 ]\n",
      "mean: 12.587668140673703 \n",
      "\n"
     ]
    }
   ],
   "source": [
    "for scorer in scorers:\n",
    "    scores = -cross_val_score(regressor,feature_set[['max_temp', 'precip', 'day_of_week', \n",
    "                                                            'hour_of_the_day', 'month']], \n",
    "                          feature_set['amount'], scoring = scorer, cv=11)\n",
    "    final_values.append(scores.mean())\n",
    "    print(scorer)\n",
    "    print(scores)\n",
    "    print(\"mean:\", scores.mean(), \"\\n\")"
   ]
  },
  {
   "cell_type": "code",
   "execution_count": 471,
   "id": "2c8c2196",
   "metadata": {},
   "outputs": [
    {
     "name": "stdout",
     "output_type": "stream",
     "text": [
      "[60.83636364]\n"
     ]
    }
   ],
   "source": [
    "# temp,precip,day of week, hour of the day, month\n",
    "Xnew = np.array([[28,0,4,20,7]]) #predict peak demand at 30deg c, no rain, thursday, 8p.m., june\n",
    "print(regressor.predict(Xnew))"
   ]
  },
  {
   "cell_type": "markdown",
   "id": "bb9800c0",
   "metadata": {},
   "source": [
    "performs slightly better than with default value on all scorers"
   ]
  },
  {
   "cell_type": "markdown",
   "id": "2638210f",
   "metadata": {},
   "source": [
    "Final Evaluation Values:"
   ]
  },
  {
   "cell_type": "code",
   "execution_count": 472,
   "id": "14d7d15d",
   "metadata": {},
   "outputs": [
    {
     "name": "stdout",
     "output_type": "stream",
     "text": [
      "r^2: 0.7232\n",
      "MAE: 8.1229\n",
      "MSE: 172.4366\n",
      "RSME: 12.5877\n"
     ]
    }
   ],
   "source": [
    "print(\"r^2:\", round(final_values[0], 4))\n",
    "print(\"MAE:\", round(final_values[1], 4))\n",
    "print(\"MSE:\", round(final_values[2], 4))\n",
    "print(\"RSME:\", round(final_values[3], 4))"
   ]
  }
 ],
 "metadata": {
  "kernelspec": {
   "display_name": "Python 3",
   "language": "python",
   "name": "python3"
  },
  "language_info": {
   "codemirror_mode": {
    "name": "ipython",
    "version": 3
   },
   "file_extension": ".py",
   "mimetype": "text/x-python",
   "name": "python",
   "nbconvert_exporter": "python",
   "pygments_lexer": "ipython3",
   "version": "3.8.10"
  }
 },
 "nbformat": 4,
 "nbformat_minor": 5
}
